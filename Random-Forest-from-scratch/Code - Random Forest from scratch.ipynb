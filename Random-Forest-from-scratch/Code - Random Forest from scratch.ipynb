{
 "cells": [
  {
   "cell_type": "code",
   "execution_count": 5,
   "metadata": {},
   "outputs": [],
   "source": [
    "from sklearn.ensemble import RandomForestRegressor\n",
    "from sklearn import metrics\n",
    "import datetime as dt\n",
    "import numpy as np\n",
    "import pandas as pd\n",
    "import math\n",
    "import matplotlib.pyplot as plt\n",
    "np.set_printoptions(suppress=True)"
   ]
  },
  {
   "cell_type": "markdown",
   "metadata": {},
   "source": [
    "# 1. Random Forest Regressor"
   ]
  },
  {
   "cell_type": "code",
   "execution_count": 1,
   "metadata": {},
   "outputs": [],
   "source": [
    "class TreeEnsemble():\n",
    "    def __init__(self, x, y, nTrees, sampleSize, minLeaf = 5):\n",
    "        np.random.seed(42)\n",
    "        self.x, self.y, self.nTrees, self.sampleSize, self.minLeaf = x, y, nTrees, sampleSize, minLeaf\n",
    "        self.trees = [self.createTree() for i in range(nTrees)]\n",
    "\n",
    "    def createTree(self):\n",
    "        randomIndexes = np.random.permutation(len(self.y))[:self.sampleSize]\n",
    "        return DecisionTree(self.x[randomIndexes], self.y[randomIndexes], minLeaf = self.minLeaf)\n",
    "\n",
    "    def predict(self, x):\n",
    "        return np.mean([tree.predict(x) for tree in self.trees], axis = 0)"
   ]
  },
  {
   "cell_type": "code",
   "execution_count": 2,
   "metadata": {},
   "outputs": [],
   "source": [
    "class DecisionTree():\n",
    "    def __init__(self, x, y, indexes = None, minLeaf = 5):\n",
    "        if indexes is None: indexes = np.arange(len(y)) \n",
    "        self.x, self.y, self.indexes, self.minLeaf = x, y, indexes, minLeaf\n",
    "        self.nRows, self.nColumns = len(indexes), x.shape[1]\n",
    "        self.value = np.mean(y[indexes])\n",
    "        self.score = float('inf')\n",
    "        self.findVariableSplit()\n",
    "        \n",
    "    def findVariableSplit(self):\n",
    "        for i in range(self.nColumns):\n",
    "            self.findBetterSplit(i)\n",
    "            \n",
    "    def findBetterSplit(self, variableIndexes): pass\n",
    "    \n",
    "    @property\n",
    "    def splitName(self):\n",
    "        return self.x.columns[self.variableIndexes]\n",
    "    \n",
    "    @property\n",
    "    def splitColumn(self):\n",
    "        return self.x.values[self.indexes, self.variableIndexes]\n",
    "    \n",
    "    @property\n",
    "    def isLeaf(self):\n",
    "        return self.score == float('inf')\n",
    "    \n",
    "    def __repr__(self):\n",
    "        toPrint = f'nRows = {self.nRows}; value = {self.value}'\n",
    "        if not self.isLeaf:\n",
    "            toPrint += f' score: {self.score}; split: {self.split}; variable: {self.splitName}'\n",
    "        return toPrint"
   ]
  },
  {
   "cell_type": "code",
   "execution_count": 3,
   "metadata": {},
   "outputs": [],
   "source": [
    "def findBetterSplit(self, variableIndexes):\n",
    "    x, y = self.x[self.indexes, variableIndexes], self.y[self.indexes]\n",
    "    \n",
    "    for i in range(1, self.nRows - 1):\n",
    "        leftHandSide = x <= x[i]\n",
    "        rightHandSide = x > x[i]\n",
    "        \n",
    "        if rightHandSide.sum() == 0: \n",
    "            continue\n",
    "            \n",
    "        leftHandSideSTD = y[leftHandSide].std()\n",
    "        rightHandSideSTD = y[rightHandSide].std()\n",
    "        \n",
    "        #RMSE je do konstante jednaka ovom izrazu\n",
    "        currentScore = leftHandSideSTD * leftHandSide.sum() + rightHandSideSTD + rightHandSide.sum()\n",
    "        \n",
    "        if currentScore < self.score:\n",
    "            self.variableIndexes, self.score, self.split = variableIndexes, currentScore, x[i]"
   ]
  },
  {
   "cell_type": "markdown",
   "metadata": {},
   "source": [
    "## 1.1 Speeding Things Up"
   ]
  },
  {
   "cell_type": "code",
   "execution_count": 4,
   "metadata": {},
   "outputs": [],
   "source": [
    "def stDev(count, s1, s2):\n",
    "    return math.sqrt((s2/count) - (s1/count)**2)\n",
    "\n",
    "def findBetterSplit(self, variableIndexes):\n",
    "    x, y = self.x.values[self.indexes, variableIndexes], self.y[self.indexes]\n",
    "    \n",
    "    sortIndexes = np.argsort(x)\n",
    "    ySorted, xSorted = y[sortIndexes], x[sortIndexes]\n",
    "    \n",
    "    rhsCount, rhsSum, rhsSumSquares = self.nRows, ySorted.sum(), (ySorted**2).sum()\n",
    "    lhsCount, lhsSum, lhsSumSquares = 0, 0.0, 0.0\n",
    "    \n",
    "    for i in range(0, self.nRows - self.minLeaf - 1):\n",
    "        xi, yi = xSorted[i], ySorted[i]\n",
    "        lhsCount += 1\n",
    "        rhsCount -= 1\n",
    "        \n",
    "        lhsSum += yi\n",
    "        rhsSum -= yi\n",
    "        \n",
    "        lhsSumSquares += yi**2\n",
    "        rhsSumSquares -= yi**2\n",
    "        \n",
    "        if i < self.minLeaf or xi == xSorted[i+1]:\n",
    "            continue\n",
    "        \n",
    "        lhsSTD = stDev(lhsCount, lhsSum, lhsSumSquares)\n",
    "        rhsSTD = stDev(rhsCount, rhsSum, rhsSumSquares)\n",
    "        \n",
    "        currentScore = lhsSTD * lhsCount + rhsSTD * rhsCount\n",
    "        \n",
    "        if currentScore < self.score:\n",
    "            self.variableIndexes, self.score, self.split = variableIndexes, currentScore, xi"
   ]
  },
  {
   "cell_type": "code",
   "execution_count": 5,
   "metadata": {},
   "outputs": [],
   "source": [
    "DecisionTree.findBetterSplit = findBetterSplit"
   ]
  },
  {
   "cell_type": "code",
   "execution_count": 6,
   "metadata": {},
   "outputs": [],
   "source": [
    "def findVariableSplit(self):\n",
    "    for i in range(self.nColumns):\n",
    "        self.findBetterSplit(i)\n",
    "    if self.isLeaf:\n",
    "        return\n",
    "    x = self.splitColumn\n",
    "    lhs = np.nonzero(x <= self.split)[0]\n",
    "    rhs = np.nonzero(x >  self.split)[0]\n",
    "    self.lhs = DecisionTree(self.x, self.y, self.indexes[lhs])\n",
    "    self.rhs = DecisionTree(self.x, self.y, self.indexes[rhs])"
   ]
  },
  {
   "cell_type": "code",
   "execution_count": 7,
   "metadata": {},
   "outputs": [],
   "source": [
    "DecisionTree.findVariableSplit = findVariableSplit"
   ]
  },
  {
   "cell_type": "code",
   "execution_count": 8,
   "metadata": {},
   "outputs": [],
   "source": [
    "def predict(self, x):\n",
    "    return np.array([self.predictRow(xi) for xi in x ])\n",
    "\n",
    "DecisionTree.predict = predict"
   ]
  },
  {
   "cell_type": "code",
   "execution_count": 9,
   "metadata": {},
   "outputs": [],
   "source": [
    "def predictRow(self, xi):\n",
    "    if self.isLeaf:\n",
    "        return self.value\n",
    "    t = self.lhs if xi[self.variableIndex] <= self.split else self.rhs\n",
    "#  The line above is equivalent to the 4 following lines\n",
    "#     if xi[self.variableIndex]\n",
    "#         t = self.lhs\n",
    "#     else:\n",
    "#         t = self.rhs\n",
    "#     return t.predictRow(xi)\n",
    "\n",
    "DecisionTree.predictRow = predictRow"
   ]
  },
  {
   "cell_type": "markdown",
   "metadata": {},
   "source": [
    "## 1.2 Putting It All Together"
   ]
  },
  {
   "cell_type": "code",
   "execution_count": 1,
   "metadata": {},
   "outputs": [],
   "source": [
    "class TreeEnsemble():\n",
    "    def __init__(self, x, y, nTrees, sampleSize, minLeaf = 5):\n",
    "        np.random.seed(42)\n",
    "        self.x, self.y, self.nTrees, self.sampleSize, self.minLeaf = x, y, nTrees, sampleSize, minLeaf\n",
    "        self.trees = [self.createTree() for i in range(nTrees)]\n",
    "\n",
    "    def createTree(self):\n",
    "        randomIndexes = np.random.permutation(len(self.y))[:self.sampleSize]\n",
    "        return DecisionTree(self.x[randomIndexes], self.y[randomIndexes], minLeaf = self.minLeaf)\n",
    "\n",
    "    def predict(self, x):\n",
    "        return np.mean(np.array([tree.predict(x) for tree in self.trees]), axis = 0)"
   ]
  },
  {
   "cell_type": "code",
   "execution_count": 2,
   "metadata": {},
   "outputs": [],
   "source": [
    "def stDev(count, s1, s2):\n",
    "    return math.sqrt((s2/count) - (s1/count)**2)"
   ]
  },
  {
   "cell_type": "code",
   "execution_count": 3,
   "metadata": {},
   "outputs": [],
   "source": [
    "class DecisionTree():\n",
    "    def __init__(self, x, y, indexes = None, minLeaf = 5):\n",
    "        if indexes is None: indexes = np.arange(len(y)) \n",
    "        self.x, self.y, self.indexes, self.minLeaf = x, y, indexes, minLeaf\n",
    "        self.nRows, self.nColumns = len(indexes), x.shape[1]\n",
    "        self.value = np.mean(y[indexes])\n",
    "        self.score = float('inf')\n",
    "        self.findVariableSplit()\n",
    "        \n",
    "    def findVariableSplit(self):\n",
    "        for i in range(self.nColumns):\n",
    "            self.findBetterSplit(i)\n",
    "        if self.isLeaf:\n",
    "            return\n",
    "        x = self.splitColumn\n",
    "        lhs = np.nonzero(x <= self.split)[0]\n",
    "        rhs = np.nonzero(x >  self.split)[0]\n",
    "        self.lhs = DecisionTree(self.x, self.y, self.indexes[lhs])\n",
    "        self.rhs = DecisionTree(self.x, self.y, self.indexes[rhs])\n",
    "\n",
    "    def findBetterSplit(self, variableIndexes):\n",
    "        x, y = self.x[self.indexes, variableIndexes], self.y[self.indexes]\n",
    "\n",
    "        sortIndexes = np.argsort(x)\n",
    "        ySorted, xSorted = y[sortIndexes], x[sortIndexes]\n",
    "\n",
    "        rhsCount, rhsSum, rhsSumSquares = self.nRows, ySorted.sum(), (ySorted**2).sum()\n",
    "        lhsCount, lhsSum, lhsSumSquares = 0, 0.0, 0.0\n",
    "\n",
    "        for i in range(0, self.nRows - self.minLeaf - 1):\n",
    "            xi, yi = xSorted[i], ySorted[i]\n",
    "            lhsCount += 1\n",
    "            rhsCount -= 1\n",
    "\n",
    "            lhsSum += yi\n",
    "            rhsSum -= yi\n",
    "\n",
    "            lhsSumSquares += yi**2\n",
    "            rhsSumSquares -= yi**2\n",
    "\n",
    "            if i < self.minLeaf or xi == xSorted[i+1]:\n",
    "                continue\n",
    "\n",
    "            lhsSTD = stDev(lhsCount, lhsSum, lhsSumSquares)\n",
    "            rhsSTD = stDev(rhsCount, rhsSum, rhsSumSquares)\n",
    "\n",
    "            currentScore = lhsSTD * lhsCount + rhsSTD * rhsCount\n",
    "\n",
    "            if currentScore < self.score:\n",
    "                self.variableIndexes, self.score, self.split = variableIndexes, currentScore, xi\n",
    "    \n",
    "    @property\n",
    "    def splitName(self):\n",
    "        return self.x.columns[self.variableIndexes]\n",
    "    \n",
    "    @property\n",
    "    def splitColumn(self):\n",
    "        return self.x[self.indexes, self.variableIndexes]\n",
    "    \n",
    "    @property\n",
    "    def isLeaf(self):\n",
    "        return self.score == float('inf')\n",
    "    \n",
    "    def __repr__(self):\n",
    "        toPrint = f'nRows = {self.nRows}; value = {self.value}'\n",
    "        if not self.isLeaf:\n",
    "            toPrint += f' score: {self.score}; split: {self.split}; variable: {self.splitName}'\n",
    "        return toPrint\n",
    "    \n",
    "    def predict(self, x):\n",
    "        return np.array([self.predictRow(xi) for xi in x ])\n",
    "    \n",
    "    def predictRow(self, xi):\n",
    "        if self.isLeaf:\n",
    "            return self.value\n",
    "        t = self.lhs if xi[self.variableIndexes] <= self.split else self.rhs\n",
    "        return t.predictRow(xi)"
   ]
  },
  {
   "cell_type": "markdown",
   "metadata": {},
   "source": [
    "# 2. Cleaning And Preparing The Data"
   ]
  },
  {
   "cell_type": "code",
   "execution_count": 6,
   "metadata": {},
   "outputs": [],
   "source": [
    "#Ucitavanje EXCEL fajla\n",
    "#Izbacivanje featurea- 'Maximum speed of wind' zato sto je sve NaN\n",
    "\n",
    "dataAll = pd.read_excel('DATASET.xlsx')\n",
    "dataAll = dataAll.drop('Maximum speed of wind', axis = 1)\n",
    "\n",
    "#Missing vrednosti su predstavljene sa '-' \n",
    "dataAll.replace('-',np.nan, inplace = True)\n",
    "\n",
    "#Mislimo da nam za predikcijiu mogu znaciti feature-i 'Godina', 'Mesec', 'Dan u mesecu'\n",
    "dataAll['Day'] = pd.to_datetime(dataAll['Day'])\n",
    "dataAll['Year'] = dataAll.Day.map(lambda x: x.year)\n",
    "dataAll['Month'] = dataAll.Day.map(lambda x: x.month)\n",
    "dataAll['DayOfMonth'] = dataAll.Day.map(lambda x: x.day)\n",
    "\n",
    "#Izbacujemo pocetni datum\n",
    "dataAll = dataAll.drop('Day', axis = 'columns')\n",
    "\n",
    "#Izbacujemo redove koje imaju vise od jednog missing values (jedan moze da ima za Output)\n",
    "dataAll = dataAll[~(dataAll.isnull().sum(axis = 1) > 1)]\n",
    "\n",
    "#Prebacivanje iz str u numeric (int ili float)\n",
    "numericTypeColumns = list(dataAll.columns)\n",
    "\n",
    "for column in numericTypeColumns:\n",
    "    dataAll[column] = pd.to_numeric(dataAll[column])"
   ]
  },
  {
   "cell_type": "code",
   "execution_count": 7,
   "metadata": {},
   "outputs": [],
   "source": [
    "#Delimo Data Set na train i test podatke (u zavisnosti da li je output missing ili ne)\n",
    "\n",
    "dataTest = dataAll[dataAll.Output.isnull()].reset_index().drop('index', axis = 1)\n",
    "\n",
    "dataTrain = dataAll[~dataAll.Output.isnull()].reset_index().drop('index', axis = 1)\n",
    "dataTrain = dataTrain[~(dataTrain.isnull().sum(axis = 1) > 0)]"
   ]
  },
  {
   "cell_type": "code",
   "execution_count": 8,
   "metadata": {},
   "outputs": [],
   "source": [
    "#Za train podatke, izbacujemo 'Output' kolonu jer ne treba na njoj da treniramo algoritam\n",
    "\n",
    "yTrain = dataTrain.Output.reset_index().drop('index', axis = 1).values\n",
    "xTrain = dataTrain.drop('Output', axis = 'columns').reset_index().drop('index', axis = 1).values\n",
    "\n",
    "xTest = dataTest.drop('Output', axis = 'columns').values"
   ]
  },
  {
   "cell_type": "code",
   "execution_count": 9,
   "metadata": {},
   "outputs": [],
   "source": [
    "dataTest = dataAll[dataAll.Output.isnull()].reset_index().drop('index', axis = 1)\n",
    "\n",
    "dataTrain = dataAll[~dataAll.Output.isnull()].reset_index().drop('index', axis = 1)\n",
    "dataTrain = dataTrain[~(dataTrain.isnull().sum(axis = 1) > 0)]"
   ]
  },
  {
   "cell_type": "code",
   "execution_count": 10,
   "metadata": {},
   "outputs": [],
   "source": [
    "dataTrain2013 = dataTrain[(dataTrain.Year == 2013)]\n",
    "dataTrain2014 = dataTrain[(dataTrain.Year == 2014)]\n",
    "dataTrain2015 = dataTrain[(dataTrain.Year == 2015)]\n",
    "\n",
    "dataTrainNo2013 = dataTrain[~(dataTrain.Year == 2013)]\n",
    "dataTrainNo2014 = dataTrain[~(dataTrain.Year == 2014)]\n",
    "dataTrainNo2015 = dataTrain[~(dataTrain.Year == 2015)]\n",
    "\n",
    "#Za train podatke, izbacujemo 'Output' kolonu jer ne treba na njoj da treniramo algoritam\n",
    "\n",
    "xTrain2013 = dataTrain2013.drop('Output', axis = 'columns').reset_index().drop('index', axis = 1).values\n",
    "xTrain2014 = dataTrain2014.drop('Output', axis = 'columns').reset_index().drop('index', axis = 1).values\n",
    "xTrain2015 = dataTrain2015.drop('Output', axis = 'columns').reset_index().drop('index', axis = 1).values\n",
    "\n",
    "xTrainNo2013 = dataTrainNo2013.drop('Output', axis = 'columns').reset_index().drop('index', axis = 1).values\n",
    "xTrainNo2014 = dataTrainNo2014.drop('Output', axis = 'columns').reset_index().drop('index', axis = 1).values\n",
    "xTrainNo2015 = dataTrainNo2015.drop('Output', axis = 'columns').reset_index().drop('index', axis = 1).values\n",
    "\n",
    "\n",
    "yTrainNo2013 = dataTrainNo2013.Output.reset_index().drop('index', axis = 1).values\n",
    "yTrainNo2014 = dataTrainNo2014.Output.reset_index().drop('index', axis = 1).values\n",
    "yTrainNo2015 = dataTrainNo2015.Output.reset_index().drop('index', axis = 1).values\n",
    "\n",
    "yTrain2013 = dataTrain2013.Output.reset_index().drop('index', axis = 1).values\n",
    "yTrain2014 = dataTrain2014.Output.reset_index().drop('index', axis = 1).values\n",
    "yTrain2015 = dataTrain2015.Output.reset_index().drop('index', axis = 1).values\n",
    "\n",
    "xTest = dataTest.drop('Output', axis = 'columns')"
   ]
  },
  {
   "cell_type": "markdown",
   "metadata": {},
   "source": [
    "# 3. Cross Validation"
   ]
  },
  {
   "cell_type": "code",
   "execution_count": 20,
   "metadata": {},
   "outputs": [
    {
     "name": "stderr",
     "output_type": "stream",
     "text": [
      "C:\\Users\\Korisnik\\Anaconda3\\lib\\site-packages\\ipykernel_launcher.py:7: DataConversionWarning: A column-vector y was passed when a 1d array was expected. Please change the shape of y to (n_samples,), for example using ravel().\n",
      "  import sys\n",
      "C:\\Users\\Korisnik\\Anaconda3\\lib\\site-packages\\ipykernel_launcher.py:19: DataConversionWarning: A column-vector y was passed when a 1d array was expected. Please change the shape of y to (n_samples,), for example using ravel().\n",
      "C:\\Users\\Korisnik\\Anaconda3\\lib\\site-packages\\ipykernel_launcher.py:31: DataConversionWarning: A column-vector y was passed when a 1d array was expected. Please change the shape of y to (n_samples,), for example using ravel().\n"
     ]
    }
   ],
   "source": [
    "RF = TreeEnsemble(x = xTrainNo2013, y = yTrainNo2013, nTrees = 50, sampleSize = 500, minLeaf = 3)\n",
    "preds2013 = RF.predict(xTrain2013)\n",
    "RFr2score2013 = metrics.r2_score(yTrain2013, preds2013)\n",
    "RFmse2013 = metrics.mean_squared_error(yTrain2013, preds2013)\n",
    "\n",
    "ScikitRF = RandomForestRegressor(n_estimators = 50, min_samples_leaf = 3, bootstrap = False)\n",
    "ScikitRF.fit(xTrainNo2013, yTrainNo2013)\n",
    "ScikitRFpreds2013 = ScikitRF.predict(xTrain2013)\n",
    "ScikitRFr2score2013 = metrics.r2_score(yTrain2013, ScikitRFpreds2013)\n",
    "ScikitRFmse2013 = metrics.mean_squared_error(yTrain2013, ScikitRFpreds2013)\n",
    "\n",
    "\n",
    "RF = TreeEnsemble(x = xTrainNo2014, y = yTrainNo2014, nTrees = 50, sampleSize = 500, minLeaf = 3)\n",
    "preds2014 = RF.predict(xTrain2014)\n",
    "RFr2score2014 = metrics.r2_score(yTrain2014, preds2014)\n",
    "RFmse2014 = metrics.mean_squared_error(yTrain2014, preds2014)\n",
    "\n",
    "ScikitRF = RandomForestRegressor(n_estimators = 50, min_samples_leaf = 3, bootstrap = False)\n",
    "ScikitRF.fit(xTrainNo2014, yTrainNo2014)\n",
    "ScikitRFpreds2014 = ScikitRF.predict(xTrain2014)\n",
    "ScikitRFr2score2014 = metrics.r2_score(yTrain2014, ScikitRFpreds2014)\n",
    "ScikitRFmse2014 = metrics.mean_squared_error(yTrain2014, ScikitRFpreds2014)\n",
    "\n",
    "\n",
    "RF = TreeEnsemble(x = xTrainNo2015, y = yTrainNo2015, nTrees = 50, sampleSize = 500, minLeaf = 3)\n",
    "preds2015 = RF.predict(xTrain2015)\n",
    "RFr2score2015 = metrics.r2_score(yTrain2015, preds2015)\n",
    "RFmse2015 = metrics.mean_squared_error(yTrain2015, preds2015)\n",
    "\n",
    "ScikitRF = RandomForestRegressor(n_estimators = 50, min_samples_leaf = 3, bootstrap = False)\n",
    "ScikitRF.fit(xTrainNo2015, yTrainNo2015)\n",
    "ScikitRFpreds2015 = ScikitRF.predict(xTrain2015)\n",
    "ScikitRFr2score2015 = metrics.r2_score(yTrain2015, ScikitRFpreds2015)\n",
    "ScikitRFmse2015 = metrics.mean_squared_error(yTrain2015, ScikitRFpreds2015)"
   ]
  },
  {
   "cell_type": "code",
   "execution_count": 21,
   "metadata": {},
   "outputs": [
    {
     "data": {
      "image/png": "[encoded data removed]",
      "text/plain": [
       "<Figure size 720x360 with 1 Axes>"
      ]
     },
     "metadata": {
      "needs_background": "light"
     },
     "output_type": "display_data"
    },
    {
     "data": {
      "text/plain": [
       "<Figure size 432x288 with 0 Axes>"
      ]
     },
     "metadata": {},
     "output_type": "display_data"
    }
   ],
   "source": [
    "RFr2scores = [RFr2score2013, RFr2score2014, RFr2score2015]\n",
    "scikitRFr2Scores = [ScikitRFr2score2013, ScikitRFr2score2014, ScikitRFr2score2015]\n",
    "\n",
    "ind = np.arange(3)  # the x locations for the groups\n",
    "width = 0.2\n",
    "\n",
    "fig, ax = plt.subplots(figsize = (10,5))\n",
    "rects1 = ax.bar(ind - width/2, RFr2scores, width, label='Our RF', color = 'palegreen')\n",
    "rects2 = ax.bar(ind + width/2, scikitRFr2Scores, width, label='ScikitLearn RF', color = 'darkgreen')\n",
    "\n",
    "ax.set_ylabel('r^2 Scores')\n",
    "plt.ylim(top = 1.1)\n",
    "ax.set_xlabel('Years')\n",
    "ax.set_title('Comparison between our and scikitLearn RF (r^2 score)')\n",
    "ax.set_xticks(ind)\n",
    "ax.set_xticklabels(('2013', '2014', '2015'))\n",
    "ax.legend()\n",
    "plt.show()\n",
    "plt.savefig('123')"
   ]
  },
  {
   "cell_type": "code",
   "execution_count": 22,
   "metadata": {},
   "outputs": [
    {
     "data": {
      "image/png": "[encoded data removed]",
      "text/plain": [
       "<Figure size 720x360 with 1 Axes>"
      ]
     },
     "metadata": {
      "needs_background": "light"
     },
     "output_type": "display_data"
    },
    {
     "data": {
      "text/plain": [
       "<Figure size 432x288 with 0 Axes>"
      ]
     },
     "metadata": {},
     "output_type": "display_data"
    }
   ],
   "source": [
    "RFmse = [RFmse2013, RFmse2014, RFmse2015]\n",
    "scikitRFmse = [ScikitRFmse2013, ScikitRFmse2014, ScikitRFmse2015]\n",
    "\n",
    "ind = np.arange(3)  # the x locations for the groups\n",
    "width = 0.2\n",
    "\n",
    "fig, ax = plt.subplots(figsize = (10,5))\n",
    "rects1 = ax.bar(ind - width/2, RFmse, width, label='Our RF', color = 'palegreen')\n",
    "rects2 = ax.bar(ind + width/2, scikitRFmse, width, label='ScikitLearn RF', color = 'darkgreen')\n",
    "\n",
    "ax.set_ylabel('Mean Squared Error')\n",
    "ax.set_xlabel('Years')\n",
    "ax.set_title('Comparison between our and scikitLearn RF (MSE)')\n",
    "ax.set_xticks(ind)\n",
    "ax.set_xticklabels(('2013', '2014', '2015'))\n",
    "ax.legend()\n",
    "plt.show()\n",
    "plt.savefig('mse', dpi = 100)"
   ]
  },
  {
   "cell_type": "code",
   "execution_count": 23,
   "metadata": {},
   "outputs": [],
   "source": [
    "numTrees = [1,5,10,20,30,40,50,60,70,80,90,100]\n",
    "avgErrors = []\n",
    "\n",
    "errors2013 = []\n",
    "errors2014 = []\n",
    "errors2015 = []\n",
    "\n",
    "for n in numTrees: \n",
    "    \n",
    "    RF1 = TreeEnsemble(x = xTrainNo2013, y = yTrainNo2013, nTrees = n, sampleSize = 500, minLeaf = 5)\n",
    "    preds2013 = RF1.predict(xTrain2013)\n",
    "    mae2013 = metrics.mean_absolute_error(yTrain2013, preds2013)\n",
    "    \n",
    "    RF2 = TreeEnsemble(x = xTrainNo2014, y = yTrainNo2014, nTrees = n, sampleSize = 500, minLeaf = 5)\n",
    "    preds2014 = RF2.predict(xTrain2014)\n",
    "    mae2014 = metrics.mean_absolute_error(yTrain2014, preds2014)\n",
    "\n",
    "    RF3 = TreeEnsemble(x = xTrainNo2015, y = yTrainNo2015, nTrees = n, sampleSize = 500, minLeaf = 5)\n",
    "    preds2015 = RF3.predict(xTrain2015)\n",
    "    mae2015 = metrics.mean_absolute_error(yTrain2015, preds2015)\n",
    "\n",
    "    avgErrors.append((mae2013 + mae2014 + mae2015)/3)"
   ]
  },
  {
   "cell_type": "code",
   "execution_count": 24,
   "metadata": {},
   "outputs": [
    {
     "data": {
      "image/png": "[encoded data removed]",
      "text/plain": [
       "<Figure size 1008x432 with 1 Axes>"
      ]
     },
     "metadata": {
      "needs_background": "light"
     },
     "output_type": "display_data"
    }
   ],
   "source": [
    "plt.figure(figsize = (14,6))\n",
    "plt.title('Impact Of Trees in Random Forest On MAE')\n",
    "plt.xlabel('Number Of Trees')\n",
    "plt.ylabel('MAE')\n",
    "plt.xticks(numTrees)\n",
    "plt.plot(numTrees, avgErrors,'gH:')\n",
    "plt.show()"
   ]
  },
  {
   "cell_type": "code",
   "execution_count": 13,
   "metadata": {},
   "outputs": [],
   "source": [
    "numLeafs = [1,5,25,50,100,150,200,250]\n",
    "avgErrorsLeafs = []\n",
    "\n",
    "errors2013 = []\n",
    "errors2014 = []\n",
    "errors2015 = []\n",
    "\n",
    "for n in numLeafs: \n",
    "    \n",
    "    RF1 = TreeEnsemble(x = xTrainNo2013, y = yTrainNo2013, nTrees = 1, sampleSize = 500, minLeaf = n)\n",
    "    preds2013 = RF1.predict(xTrain2013)\n",
    "    mae2013 = metrics.mean_absolute_error(yTrain2013, preds2013)\n",
    "    \n",
    "    RF2 = TreeEnsemble(x = xTrainNo2014, y = yTrainNo2014, nTrees = 1, sampleSize = len(xTrain), minLeaf = n)\n",
    "    preds2014 = RF2.predict(xTrain2014)\n",
    "    mae2014 = metrics.mean_absolute_error(yTrain2014, preds2014)\n",
    "\n",
    "    RF3 = TreeEnsemble(x = xTrainNo2015, y = yTrainNo2015, nTrees = 1, sampleSize = len(xTrain), minLeaf = n)\n",
    "    preds2015 = RF3.predict(xTrain2015)\n",
    "    mae2015 = metrics.mean_absolute_error(yTrain2015, preds2015)\n",
    "\n",
    "    avgErrorsLeafs.append((mae2013 + mae2014 + mae2015)/3)"
   ]
  },
  {
   "cell_type": "code",
   "execution_count": 14,
   "metadata": {},
   "outputs": [
    {
     "data": {
      "image/png": "[encoded data removed]",
      "text/plain": [
       "<Figure size 1008x432 with 1 Axes>"
      ]
     },
     "metadata": {
      "needs_background": "light"
     },
     "output_type": "display_data"
    }
   ],
   "source": [
    "plt.figure(figsize = (14,6))\n",
    "plt.title('Impact Of Number of Samples in Leafs in Random Forest On MAE')\n",
    "plt.xlabel('Number Of Samples in Leafs')\n",
    "plt.ylabel('MAE')\n",
    "plt.plot(numLeafs, avgErrorsLeafs,'gH:')\n",
    "plt.show()"
   ]
  },
  {
   "cell_type": "code",
   "execution_count": null,
   "metadata": {},
   "outputs": [],
   "source": []
  }
 ],
 "metadata": {
  "kernelspec": {
   "display_name": "Python 3",
   "language": "python",
   "name": "python3"
  },
  "language_info": {
   "codemirror_mode": {
    "name": "ipython",
    "version": 3
   },
   "file_extension": ".py",
   "mimetype": "text/x-python",
   "name": "python",
   "nbconvert_exporter": "python",
   "pygments_lexer": "ipython3",
   "version": "3.7.3"
  }
 },
 "nbformat": 4,
 "nbformat_minor": 2
}
