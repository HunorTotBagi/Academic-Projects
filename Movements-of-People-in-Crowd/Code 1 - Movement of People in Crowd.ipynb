{
 "cells": [
  {
   "cell_type": "code",
   "execution_count": null,
   "metadata": {},
   "outputs": [],
   "source": [
    "import numpy as np\n",
    "import random\n",
    "from matplotlib  import pyplot as plt\n",
    "\n",
    "q=10\n",
    "x = random.sample(range(q), q)\n",
    "y = random.sample(range(q), q)\n",
    "plt.scatter(x,y)\n",
    "plt.xlim(-1, q)\n",
    "plt.ylim(-1, q)\n",
    "plt.show()\n"
   ]
  },
  {
   "cell_type": "code",
   "execution_count": null,
   "metadata": {},
   "outputs": [],
   "source": [
    "a = q-1\n",
    "b = round((q/2)-1)"
   ]
  },
  {
   "cell_type": "code",
   "execution_count": null,
   "metadata": {},
   "outputs": [],
   "source": [
    "n = np.zeros((q,q))\n",
    "din = np.zeros((q,q))"
   ]
  },
  {
   "cell_type": "code",
   "execution_count": null,
   "metadata": {},
   "outputs": [],
   "source": [
    "t = np.zeros((q,q))\n",
    "for i in range(q):\n",
    "    for j in range(q):\n",
    "        t[i,j] = np.sqrt((i - a)**2 + (j - b)**2)\n",
    "        tmax = t.max()\n",
    "        \n",
    "s = np.zeros((q,q))\n",
    "for i in range(q):\n",
    "        for j in range(q):\n",
    "            s[i,j] = tmax - t[i,j]\n",
    "np.round(s,1)"
   ]
  },
  {
   "cell_type": "code",
   "execution_count": null,
   "metadata": {
    "scrolled": false
   },
   "outputs": [],
   "source": [
    "def move():\n",
    "    global din,n,x,y\n",
    "    kd = 0\n",
    "    ks = 4\n",
    "    z = random.sample(range(q), q)\n",
    "    \n",
    "    for i in z:\n",
    "        if (x[i],y[i])==(a,b):\n",
    "            continue\n",
    "         \n",
    "        n = np.zeros((q,q))\n",
    "        for j in range(q):\n",
    "            n[x[j],y[j]] = 1\n",
    "        n[a,b] = 0\n",
    "        \n",
    "                 \n",
    "        if x[i] == 0:\n",
    "            u = 0\n",
    "            d = ((np.e)**(kd*din[x[i]+1,y[i]])) * (np.e)**(ks*s[x[i]+1,y[i]]) * (1 - n[x[i]+1,y[i]])  \n",
    "        elif x[i] == q-1:\n",
    "            d = 0\n",
    "            u = ((np.e)**(kd*din[x[i]-1,y[i]])) * (np.e)**(ks*s[x[i]-1,y[i]]) * (1 - n[x[i]-1,y[i]])\n",
    "        else:\n",
    "            u = ((np.e)**(kd*din[x[i]-1,y[i]])) * (np.e)**(ks*s[x[i]-1,y[i]]) * (1 - n[x[i]-1,y[i]])\n",
    "            d = ((np.e)**(kd*din[x[i]+1,y[i]])) * (np.e)**(ks*s[x[i]+1,y[i]]) * (1 - n[x[i]+1,y[i]])\n",
    "            \n",
    "        if y[i] == 0:\n",
    "            l = 0\n",
    "            r = ((np.e)**(kd*din[x[i],y[i]+1])) * (np.e)**(ks*s[x[i],y[i]+1]) * (1 - n[x[i],y[i]+1])\n",
    "        elif y[i] == q-1:\n",
    "            r = 0\n",
    "            l = ((np.e)**(kd*din[x[i],y[i]-1])) * (np.e)**(ks*s[x[i],y[i]-1]) * (1 - n[x[i],y[i]-1])\n",
    "        else:\n",
    "            l = ((np.e)**(kd*din[x[i],y[i]-1])) * (np.e)**(ks*s[x[i],y[i]-1]) * (1 - n[x[i],y[i]-1])\n",
    "            r = ((np.e)**(kd*din[x[i],y[i]+1])) * (np.e)**(ks*s[x[i],y[i]+1]) * (1 - n[x[i],y[i]+1])\n",
    "            \n",
    "        c = ((np.e)**(kd*din[x[i],y[i]])) * (np.e)**(ks*s[x[i],y[i]]) \n",
    "        \n",
    "        \n",
    "        N=u+d+l+r+c\n",
    "        u,d,l,r,c = u/N, d/N, l/N, r/N, c/N\n",
    "        \n",
    "        k = np.random.uniform(0,1,1)\n",
    "        \n",
    "        if 0<=k[0]<=u:\n",
    "            x[i] = x[i] - 1        \n",
    "        elif u<k[0]<=u+d:\n",
    "            x[i] = x[i] + 1\n",
    "        elif u+d<k[0]<=u+d+r:\n",
    "            y[i] = y[i] + 1\n",
    "        elif u+d+r<k[0]<=u+d+r+l:\n",
    "            y[i] = y[i] - 1\n",
    "            \n",
    "        if 0<=k[0]<=u+d+r+l:\n",
    "            din[x[i],y[i]] = din[x[i],y[i]] + 1\n",
    "            \n",
    "    plt.scatter(x,y)\n",
    "    plt.xlim(-1, q)\n",
    "    plt.ylim(-1, q)\n",
    "    #plt.savefig(\"slika\"+str(m)+\".png\",dpi=100)\n",
    "    plt.show()\n",
    "    \n",
    "    for i in range(q):\n",
    "        for j in range(q):\n",
    "            \n",
    "            if din[i,j] != 0:\n",
    "                k1 = np.random.uniform(0,1,1)\n",
    "                \n",
    "                if 0<=k1[0]<1/3:\n",
    "                    din[i,j] = din[i,j] - 1\n",
    "                    \n",
    "                else:\n",
    "                    k2 = np.random.uniform(0,1,1)\n",
    "                    \n",
    "                    if 0<=k2[0]<1/3:\n",
    "                        k21 = np.random.uniform(0,1,1)\n",
    "                        \n",
    "                        if 0<=k21[0]<1/4 and i != 0:\n",
    "                            din[i,j] = din[i,j] - 1\n",
    "                            din[i-1,j] = din[i-1,j] + 1\n",
    "                            \n",
    "                        elif 1/4<=k21[0]<2/4 and i != q-1:\n",
    "                            din[i,j] = din[i,j] - 1\n",
    "                            din[i+1,j] = din[i+1,j] + 1\n",
    "                            \n",
    "                        elif 2/4<=k21[0]<3/4 and j != 0:\n",
    "                            din[i,j] = din[i,j] - 1\n",
    "                            din[i,j-1] = din[i,j-1] + 1\n",
    "                            \n",
    "                        elif j != q-1:\n",
    "                            din[i,j] = din[i,j] - 1\n",
    "                            din[i,j+1] = din[i,j+1] + 1\n"
   ]
  },
  {
   "cell_type": "code",
   "execution_count": null,
   "metadata": {},
   "outputs": [],
   "source": [
    "def ite():\n",
    "    m=0\n",
    "    while x.count(a)!=q and y.count(b)!=q:\n",
    "        m+=1\n",
    "        move()\n",
    "    return m"
   ]
  },
  {
   "cell_type": "code",
   "execution_count": null,
   "metadata": {},
   "outputs": [],
   "source": [
    "ite()"
   ]
  },
  {
   "cell_type": "code",
   "execution_count": null,
   "metadata": {},
   "outputs": [],
   "source": [
    "din, n"
   ]
  },
  {
   "cell_type": "code",
   "execution_count": null,
   "metadata": {},
   "outputs": [],
   "source": [
    " x.count(a), y.count(b)"
   ]
  },
  {
   "cell_type": "code",
   "execution_count": null,
   "metadata": {},
   "outputs": [],
   "source": [
    "x,y"
   ]
  },
  {
   "cell_type": "code",
   "execution_count": null,
   "metadata": {},
   "outputs": [],
   "source": []
  }
 ],
 "metadata": {
  "kernelspec": {
   "display_name": "Python 3",
   "language": "python",
   "name": "python3"
  },
  "language_info": {
   "codemirror_mode": {
    "name": "ipython",
    "version": 3
   },
   "file_extension": ".py",
   "mimetype": "text/x-python",
   "name": "python",
   "nbconvert_exporter": "python",
   "pygments_lexer": "ipython3",
   "version": "3.7.0"
  }
 },
 "nbformat": 4,
 "nbformat_minor": 2
}
