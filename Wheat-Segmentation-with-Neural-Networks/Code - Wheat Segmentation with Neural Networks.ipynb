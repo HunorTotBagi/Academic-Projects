{
  "nbformat": 4,
  "nbformat_minor": 0,
  "metadata": {
    "colab": {
      "name": "Untitled1.ipynb",
      "provenance": [],
      "collapsed_sections": []
    },
    "kernelspec": {
      "name": "python3",
      "display_name": "Python 3"
    },
    "accelerator": "GPU"
  },
  "cells": [
    {
      "cell_type": "code",
      "metadata": {
        "id": "dhfTA-HEa0qo",
        "colab_type": "code",
        "colab": {}
      },
      "source": [
        "from tensorflow.keras.layers import Conv2D, MaxPool2D, Dropout, concatenate, Conv2DTranspose, BatchNormalization, Activation, Input\n",
        "from tensorflow.keras.models import Model\n",
        "from tensorflow.keras.optimizers import Adam\n",
        "import numpy as np\n",
        "import PIL\n",
        "from PIL import Image\n",
        "import matplotlib.pyplot as plt\n",
        "import cv2\n",
        "import os"
      ],
      "execution_count": 0,
      "outputs": []
    },
    {
      "cell_type": "code",
      "metadata": {
        "id": "39Bn6VLYa2mN",
        "colab_type": "code",
        "outputId": "39286338-7033-4817-b86c-b419c00b08d5",
        "colab": {
          "base_uri": "https://localhost:8080/",
          "height": 34
        }
      },
      "source": [
        "from google.colab import drive\n",
        "drive.mount('/content/drive/')"
      ],
      "execution_count": 0,
      "outputs": [
        {
          "output_type": "stream",
          "text": [
            "Drive already mounted at /content/drive/; to attempt to forcibly remount, call drive.mount(\"/content/drive/\", force_remount=True).\n"
          ],
          "name": "stdout"
        }
      ]
    },
    {
      "cell_type": "markdown",
      "metadata": {
        "id": "k5MZfZU7a-KE",
        "colab_type": "text"
      },
      "source": [
        "### Functions"
      ]
    },
    {
      "cell_type": "code",
      "metadata": {
        "id": "Mg9Hczgla-6U",
        "colab_type": "code",
        "colab": {}
      },
      "source": [
        "def rotate(img):\n",
        "    if img.height < img.width:\n",
        "        img = img.rotate(-90, expand=1)\n",
        "    return img"
      ],
      "execution_count": 0,
      "outputs": []
    },
    {
      "cell_type": "code",
      "metadata": {
        "id": "jZ3WP8GRbByq",
        "colab_type": "code",
        "colab": {}
      },
      "source": [
        "def frame(img):\n",
        "\n",
        "  npimg = np.asarray(img)\n",
        "\n",
        "  lower = [250,250,250]\n",
        "  upper = [255,255,255]\n",
        "\n",
        "  # create NumPy arrays from the boundaries\n",
        "  lower = np.array(lower, dtype=\"uint8\")\n",
        "  upper = np.array(upper, dtype=\"uint8\")\n",
        "\n",
        "  #create a frame as a mask\n",
        "  mask = cv2.inRange(npimg, lower, upper)\n",
        "  mask = cv2.threshold(mask,127,255,cv2.THRESH_BINARY)[1]\n",
        "\n",
        "  x, y, w, h = cv2.boundingRect(mask) \n",
        "  for i in range(y+10, y+h-10):\n",
        "    for j in range(x+10, x+w-10):\n",
        "        mask[i,j] = 255\n",
        "\n",
        "  res = cv2.bitwise_and(npimg,npimg,mask = mask)\n",
        "\n",
        "  return res"
      ],
      "execution_count": 0,
      "outputs": []
    },
    {
      "cell_type": "code",
      "metadata": {
        "id": "MjbPNSX2y7-a",
        "colab_type": "code",
        "colab": {}
      },
      "source": [
        "def dataset_normalized(imgs):\n",
        "    imgs_normalized = np.empty(imgs.shape)\n",
        "    imgs_std = np.std(imgs)\n",
        "    imgs_mean = np.mean(imgs)\n",
        "    imgs_normalized = (imgs-imgs_mean)/imgs_std\n",
        "    for i in range(imgs.shape[0]):\n",
        "        imgs_normalized[i] = ((imgs_normalized[i] - np.min(imgs_normalized[i])) / (np.max(imgs_normalized[i])-np.min(imgs_normalized[i])))*255\n",
        "    return imgs_normalized"
      ],
      "execution_count": 0,
      "outputs": []
    },
    {
      "cell_type": "code",
      "metadata": {
        "id": "01A7TaSHWahk",
        "colab_type": "code",
        "colab": {}
      },
      "source": [
        "def clahe_equalized(imgs):\n",
        "    clahe = cv2.createCLAHE(clipLimit=2.0, tileGridSize=(8,8))\n",
        "    imgs_equalized = np.empty(imgs.shape)\n",
        "    for i in range(imgs.shape[0]):\n",
        "        R, G, B = cv2.split(imgs[i])\n",
        "\n",
        "        output1_R = clahe.apply(np.array(R, dtype = np.uint8))\n",
        "        output1_G = clahe.apply(np.array(G, dtype = np.uint8))\n",
        "        output1_B = clahe.apply(np.array(B, dtype = np.uint8))\n",
        "\n",
        "        equ = cv2.merge((output1_R, output1_G, output1_B))\n",
        "        imgs_equalized[i] = equ\n",
        "    return imgs_equalized"
      ],
      "execution_count": 0,
      "outputs": []
    },
    {
      "cell_type": "markdown",
      "metadata": {
        "id": "MwBxtMmZbE-7",
        "colab_type": "text"
      },
      "source": [
        "### Uploading images"
      ]
    },
    {
      "cell_type": "code",
      "metadata": {
        "id": "qyr3o0ygbEer",
        "colab_type": "code",
        "colab": {}
      },
      "source": [
        "data_path = '/content/drive/My Drive/Colab Notebooks/Wheat Dataset/'\n",
        "mask_path = '/content/drive/My Drive/Colab Notebooks/Masks/'"
      ],
      "execution_count": 0,
      "outputs": []
    },
    {
      "cell_type": "code",
      "metadata": {
        "id": "0TIJq0lnbLXD",
        "colab_type": "code",
        "colab": {}
      },
      "source": [
        "height = 756\n",
        "width  = 756\n",
        "channels = 3\n",
        "\n",
        "wheat_dataset = np.zeros([62, height, width, channels])\n",
        "wheat_dataset_mask = np.zeros([62, height, width])"
      ],
      "execution_count": 0,
      "outputs": []
    },
    {
      "cell_type": "code",
      "metadata": {
        "id": "zm5sg0R9bMoN",
        "colab_type": "code",
        "colab": {}
      },
      "source": [
        "data_names = [item for item in os.listdir(data_path)]"
      ],
      "execution_count": 0,
      "outputs": []
    },
    {
      "cell_type": "code",
      "metadata": {
        "id": "IyKzRcj4bOws",
        "colab_type": "code",
        "colab": {}
      },
      "source": [
        "ind = 0\n",
        "for image in data_names:\n",
        "  img_path = data_path + image\n",
        "  img_mask_path = mask_path + image[0:len(image)-4] +'_mask.png'\n",
        "\n",
        "  img = Image.open(img_path, mode='r')\n",
        "  img = rotate(img)\n",
        "  img = img.resize([height, width], resample=PIL.Image.BILINEAR)\n",
        "\n",
        "  mask = Image.open(img_mask_path, mode='r').convert('L')\n",
        "  mask = rotate(mask)\n",
        "  mask = mask.resize([height, width], resample=PIL.Image.BILINEAR)\n",
        "\n",
        "  img = frame(img)\n",
        "  wheat_dataset[ind, :, :, :] = img\n",
        "  wheat_dataset_mask[ind, :, :] = mask\n",
        "\n",
        "  ind += 1"
      ],
      "execution_count": 0,
      "outputs": []
    },
    {
      "cell_type": "code",
      "metadata": {
        "id": "yd6kIfNsbhmE",
        "colab_type": "code",
        "colab": {}
      },
      "source": [
        "tr_data = wheat_dataset[0:50,:,:,:]\n",
        "te_data = wheat_dataset[50:62,:,:,:]\n",
        "\n",
        "tr_mask = wheat_dataset_mask[0:50,:,:]\n",
        "te_mask = wheat_dataset_mask[50:62,:,:]"
      ],
      "execution_count": 0,
      "outputs": []
    },
    {
      "cell_type": "code",
      "metadata": {
        "id": "jqxlAKCny_s2",
        "colab_type": "code",
        "colab": {}
      },
      "source": [
        "tr_data   = dataset_normalized(tr_data)\n",
        "te_data   = dataset_normalized(te_data)\n",
        "\n",
        "tr_data   = clahe_equalized(tr_data)\n",
        "te_data   = clahe_equalized(te_data)\n",
        "\n",
        "tr_data   = tr_data/255.\n",
        "te_data   = te_data/255."
      ],
      "execution_count": 0,
      "outputs": []
    },
    {
      "cell_type": "code",
      "metadata": {
        "id": "CfBJjMDuu4Ou",
        "colab_type": "code",
        "colab": {}
      },
      "source": [
        "tr_mask    = tr_mask/255.\n",
        "te_mask    = te_mask/255."
      ],
      "execution_count": 0,
      "outputs": []
    },
    {
      "cell_type": "code",
      "metadata": {
        "id": "1uJ2cgK4u8sB",
        "colab_type": "code",
        "colab": {}
      },
      "source": [
        "tr_mask    = np.expand_dims(tr_mask, axis=3)\n",
        "te_mask    = np.expand_dims(te_mask, axis=3)"
      ],
      "execution_count": 0,
      "outputs": []
    },
    {
      "cell_type": "code",
      "metadata": {
        "id": "HBGYoXB-bnaf",
        "colab_type": "code",
        "colab": {}
      },
      "source": [
        "input_size=(756, 756, 3)\n",
        "inputs = Input(input_size)                                                                 "
      ],
      "execution_count": 0,
      "outputs": []
    },
    {
      "cell_type": "code",
      "metadata": {
        "id": "PtyJ9cZMbp4H",
        "colab_type": "code",
        "colab": {}
      },
      "source": [
        "conv1 = Conv2D(128, 3, activation='relu', padding='same', kernel_initializer='he_normal')(inputs)\n",
        "conv1 = Conv2D(128, 3, activation='relu', padding='same', kernel_initializer='he_normal')(conv1)\n",
        "pool1 = MaxPool2D(pool_size=(2, 2))(conv1)\n",
        "\n",
        "conv2 = Conv2D(256, 3, activation='relu', padding='same', kernel_initializer='he_normal')(pool1)\n",
        "conv2 = Conv2D(256, 3, activation='relu', padding='same', kernel_initializer='he_normal')(conv2)\n",
        "pool2 = MaxPool2D(pool_size=(2, 2))(conv2)\n",
        "\n",
        "conv3 = Conv2D(512, 3, activation='relu', padding='same', kernel_initializer='he_normal')(pool1)\n",
        "conv3 = Conv2D(512, 3, activation='relu', padding='same', kernel_initializer='he_normal')(conv3)\n",
        "drop3 = Dropout(0.5)(conv3)\n",
        "pool3 = MaxPool2D(pool_size=(2, 2))(conv3)\n",
        "\n",
        "conv4 = Conv2D(1024, 3, activation='relu', padding='same', kernel_initializer='he_normal')(pool3)\n",
        "conv4_1 = Conv2D(1024, 3, activation='relu', padding='same', kernel_initializer='he_normal')(conv4)\n",
        "drop4_1 = Dropout(0.5)(conv4_1)\n",
        "\n",
        "conv4_2 = Conv2D(1024, 3, activation='relu', padding='same', kernel_initializer='he_normal')(drop4_1)\n",
        "conv4_2 = Conv2D(1024, 3, activation='relu', padding='same', kernel_initializer='he_normal')(conv4_2)\n",
        "conv4_2 = Dropout(0.5)(conv4_2)\n",
        "merge_dense = concatenate([conv4_2, drop4_1], axis=3)\n",
        "\n",
        "conv4_3 = Conv2D(1024, 3, activation='relu', padding='same', kernel_initializer='he_normal')(merge_dense)\n",
        "conv4_3 = Conv2D(1024, 3, activation='relu', padding='same', kernel_initializer='he_normal')(conv4_3)\n",
        "drop4_3 = Dropout(0.5)(conv4_3)\n",
        "\n",
        "up6 = Conv2DTranspose(512, kernel_size=2, strides=2, padding='same', kernel_initializer='he_normal')(drop4_3)\n",
        "up6 = BatchNormalization(axis=3)(up6)\n",
        "up6 = Activation('relu')(up6)\n",
        "\n",
        "conv4_3b = Conv2D(1024, 3, activation='relu', padding='same', kernel_initializer='he_normal')(up6)\n",
        "conv4_3b = Conv2D(1024, 3, activation='relu', padding='same', kernel_initializer='he_normal')(conv4_3b)\n",
        "drop4_3b = Dropout(0.5)(conv4_3b)\n",
        "\n",
        "conv6 = Conv2D(512, 3, activation='relu', padding='same', kernel_initializer='he_normal')(drop4_3b)\n",
        "conv6 = Conv2D(512, 3, activation='relu', padding='same', kernel_initializer='he_normal')(conv6)\n",
        "\n",
        "up7 = Conv2DTranspose(256, kernel_size=2, strides=2, padding='same', kernel_initializer='he_normal')(conv6)\n",
        "up7 = BatchNormalization(axis=3)(up7)\n",
        "up7 = Activation('relu')(up7)\n",
        "\n",
        "conv8 = Conv2D(128, 3, activation='relu', padding='same', kernel_initializer='he_normal')(up7)\n",
        "conv9 = Conv2D(64, 3, activation='relu', padding='same', kernel_initializer='he_normal')(conv8)\n",
        "conv9 = Conv2D(1, 1, activation='sigmoid')(conv8)\n",
        "\n",
        "model = Model(inputs=inputs, outputs=conv9)"
      ],
      "execution_count": 0,
      "outputs": []
    },
    {
      "cell_type": "code",
      "metadata": {
        "id": "ozIwTAxPbrWe",
        "colab_type": "code",
        "outputId": "95a76a63-0084-479d-d8d2-7daf19506279",
        "colab": {
          "base_uri": "https://localhost:8080/",
          "height": 1000
        }
      },
      "source": [
        "model.compile(loss='binary_crossentropy', optimizer=Adam(learning_rate=0.0001),metrics=['accuracy'])\n",
        "model.summary()"
      ],
      "execution_count": 0,
      "outputs": [
        {
          "output_type": "stream",
          "text": [
            "Model: \"model\"\n",
            "__________________________________________________________________________________________________\n",
            "Layer (type)                    Output Shape         Param #     Connected to                     \n",
            "==================================================================================================\n",
            "input_1 (InputLayer)            [(None, 756, 756, 3) 0                                            \n",
            "__________________________________________________________________________________________________\n",
            "conv2d (Conv2D)                 (None, 756, 756, 128 3584        input_1[0][0]                    \n",
            "__________________________________________________________________________________________________\n",
            "conv2d_1 (Conv2D)               (None, 756, 756, 128 147584      conv2d[0][0]                     \n",
            "__________________________________________________________________________________________________\n",
            "max_pooling2d (MaxPooling2D)    (None, 378, 378, 128 0           conv2d_1[0][0]                   \n",
            "__________________________________________________________________________________________________\n",
            "conv2d_4 (Conv2D)               (None, 378, 378, 512 590336      max_pooling2d[0][0]              \n",
            "__________________________________________________________________________________________________\n",
            "conv2d_5 (Conv2D)               (None, 378, 378, 512 2359808     conv2d_4[0][0]                   \n",
            "__________________________________________________________________________________________________\n",
            "max_pooling2d_2 (MaxPooling2D)  (None, 189, 189, 512 0           conv2d_5[0][0]                   \n",
            "__________________________________________________________________________________________________\n",
            "conv2d_6 (Conv2D)               (None, 189, 189, 102 4719616     max_pooling2d_2[0][0]            \n",
            "__________________________________________________________________________________________________\n",
            "conv2d_7 (Conv2D)               (None, 189, 189, 102 9438208     conv2d_6[0][0]                   \n",
            "__________________________________________________________________________________________________\n",
            "dropout_1 (Dropout)             (None, 189, 189, 102 0           conv2d_7[0][0]                   \n",
            "__________________________________________________________________________________________________\n",
            "conv2d_8 (Conv2D)               (None, 189, 189, 102 9438208     dropout_1[0][0]                  \n",
            "__________________________________________________________________________________________________\n",
            "conv2d_9 (Conv2D)               (None, 189, 189, 102 9438208     conv2d_8[0][0]                   \n",
            "__________________________________________________________________________________________________\n",
            "dropout_2 (Dropout)             (None, 189, 189, 102 0           conv2d_9[0][0]                   \n",
            "__________________________________________________________________________________________________\n",
            "concatenate (Concatenate)       (None, 189, 189, 204 0           dropout_2[0][0]                  \n",
            "                                                                 dropout_1[0][0]                  \n",
            "__________________________________________________________________________________________________\n",
            "conv2d_10 (Conv2D)              (None, 189, 189, 102 18875392    concatenate[0][0]                \n",
            "__________________________________________________________________________________________________\n",
            "conv2d_11 (Conv2D)              (None, 189, 189, 102 9438208     conv2d_10[0][0]                  \n",
            "__________________________________________________________________________________________________\n",
            "dropout_3 (Dropout)             (None, 189, 189, 102 0           conv2d_11[0][0]                  \n",
            "__________________________________________________________________________________________________\n",
            "conv2d_transpose (Conv2DTranspo (None, 378, 378, 512 2097664     dropout_3[0][0]                  \n",
            "__________________________________________________________________________________________________\n",
            "batch_normalization (BatchNorma (None, 378, 378, 512 2048        conv2d_transpose[0][0]           \n",
            "__________________________________________________________________________________________________\n",
            "activation (Activation)         (None, 378, 378, 512 0           batch_normalization[0][0]        \n",
            "__________________________________________________________________________________________________\n",
            "conv2d_12 (Conv2D)              (None, 378, 378, 102 4719616     activation[0][0]                 \n",
            "__________________________________________________________________________________________________\n",
            "conv2d_13 (Conv2D)              (None, 378, 378, 102 9438208     conv2d_12[0][0]                  \n",
            "__________________________________________________________________________________________________\n",
            "dropout_4 (Dropout)             (None, 378, 378, 102 0           conv2d_13[0][0]                  \n",
            "__________________________________________________________________________________________________\n",
            "conv2d_14 (Conv2D)              (None, 378, 378, 512 4719104     dropout_4[0][0]                  \n",
            "__________________________________________________________________________________________________\n",
            "conv2d_15 (Conv2D)              (None, 378, 378, 512 2359808     conv2d_14[0][0]                  \n",
            "__________________________________________________________________________________________________\n",
            "conv2d_transpose_1 (Conv2DTrans (None, 756, 756, 256 524544      conv2d_15[0][0]                  \n",
            "__________________________________________________________________________________________________\n",
            "batch_normalization_1 (BatchNor (None, 756, 756, 256 1024        conv2d_transpose_1[0][0]         \n",
            "__________________________________________________________________________________________________\n",
            "activation_1 (Activation)       (None, 756, 756, 256 0           batch_normalization_1[0][0]      \n",
            "__________________________________________________________________________________________________\n",
            "conv2d_16 (Conv2D)              (None, 756, 756, 128 295040      activation_1[0][0]               \n",
            "__________________________________________________________________________________________________\n",
            "conv2d_18 (Conv2D)              (None, 756, 756, 1)  129         conv2d_16[0][0]                  \n",
            "==================================================================================================\n",
            "Total params: 88,606,337\n",
            "Trainable params: 88,604,801\n",
            "Non-trainable params: 1,536\n",
            "__________________________________________________________________________________________________\n"
          ],
          "name": "stdout"
        }
      ]
    },
    {
      "cell_type": "code",
      "metadata": {
        "id": "AyN1R0q4buW_",
        "colab_type": "code",
        "outputId": "5681b055-0fc6-4d67-de33-b3ea5697971c",
        "colab": {
          "base_uri": "https://localhost:8080/",
          "height": 51
        }
      },
      "source": [
        "model.fit(tr_data, tr_mask, batch_size=1,\n",
        "                    epochs=5,\n",
        "                    shuffle=True,\n",
        "                    verbose=1)"
      ],
      "execution_count": 0,
      "outputs": [
        {
          "output_type": "stream",
          "text": [
            "Epoch 1/5\n",
            "48/50 [===========================>..] - ETA: 11s - loss: 0.1731 - accuracy: 0.9373"
          ],
          "name": "stdout"
        }
      ]
    },
    {
      "cell_type": "code",
      "metadata": {
        "id": "jSFmkfnd31Kk",
        "colab_type": "code",
        "outputId": "52dc15f8-0456-49db-b5ff-ca5ef34be7cb",
        "colab": {
          "base_uri": "https://localhost:8080/",
          "height": 34
        }
      },
      "source": [
        "predictions = model.predict(te_data, batch_size=2, verbose=1)"
      ],
      "execution_count": 0,
      "outputs": [
        {
          "output_type": "stream",
          "text": [
            "6/6 [==============================] - 24s 4s/step\n"
          ],
          "name": "stdout"
        }
      ]
    },
    {
      "cell_type": "code",
      "metadata": {
        "id": "W0bafMymjsd4",
        "colab_type": "code",
        "outputId": "bb5d7fde-2da9-4b67-fa1a-30e34865c7d2",
        "colab": {
          "base_uri": "https://localhost:8080/",
          "height": 1000
        }
      },
      "source": [
        "fig,ax = plt.subplots(5,3,figsize=[25,25])\n",
        "\n",
        "for idx in range(5,10):\n",
        "    ax[idx, 0].imshow(te_data[idx])\n",
        "    ax[idx, 1].imshow(np.squeeze(te_mask[idx]), cmap = 'gray')\n",
        "    ax[idx, 2].imshow(np.squeeze(predictions[idx]), cmap = 'gray')"
      ],
      "execution_count": 0,
      "outputs": [
        {
          "output_type": "error",
          "ename": "IndexError",
          "evalue": "ignored",
          "traceback": [
            "\u001b[0;31m---------------------------------------------------------------------------\u001b[0m",
            "\u001b[0;31mIndexError\u001b[0m                                Traceback (most recent call last)",
            "\u001b[0;32m<ipython-input-60-8da0bbdea40f>\u001b[0m in \u001b[0;36m<module>\u001b[0;34m()\u001b[0m\n\u001b[1;32m      2\u001b[0m \u001b[0;34m\u001b[0m\u001b[0m\n\u001b[1;32m      3\u001b[0m \u001b[0;32mfor\u001b[0m \u001b[0midx\u001b[0m \u001b[0;32min\u001b[0m \u001b[0mrange\u001b[0m\u001b[0;34m(\u001b[0m\u001b[0;36m5\u001b[0m\u001b[0;34m,\u001b[0m\u001b[0;36m10\u001b[0m\u001b[0;34m)\u001b[0m\u001b[0;34m:\u001b[0m\u001b[0;34m\u001b[0m\u001b[0;34m\u001b[0m\u001b[0m\n\u001b[0;32m----> 4\u001b[0;31m     \u001b[0max\u001b[0m\u001b[0;34m[\u001b[0m\u001b[0midx\u001b[0m\u001b[0;34m,\u001b[0m \u001b[0;36m0\u001b[0m\u001b[0;34m]\u001b[0m\u001b[0;34m.\u001b[0m\u001b[0mimshow\u001b[0m\u001b[0;34m(\u001b[0m\u001b[0mte_data\u001b[0m\u001b[0;34m[\u001b[0m\u001b[0midx\u001b[0m\u001b[0;34m]\u001b[0m\u001b[0;34m)\u001b[0m\u001b[0;34m\u001b[0m\u001b[0;34m\u001b[0m\u001b[0m\n\u001b[0m\u001b[1;32m      5\u001b[0m     \u001b[0max\u001b[0m\u001b[0;34m[\u001b[0m\u001b[0midx\u001b[0m\u001b[0;34m,\u001b[0m \u001b[0;36m1\u001b[0m\u001b[0;34m]\u001b[0m\u001b[0;34m.\u001b[0m\u001b[0mimshow\u001b[0m\u001b[0;34m(\u001b[0m\u001b[0mnp\u001b[0m\u001b[0;34m.\u001b[0m\u001b[0msqueeze\u001b[0m\u001b[0;34m(\u001b[0m\u001b[0mte_mask\u001b[0m\u001b[0;34m[\u001b[0m\u001b[0midx\u001b[0m\u001b[0;34m]\u001b[0m\u001b[0;34m)\u001b[0m\u001b[0;34m,\u001b[0m \u001b[0mcmap\u001b[0m \u001b[0;34m=\u001b[0m \u001b[0;34m'gray'\u001b[0m\u001b[0;34m)\u001b[0m\u001b[0;34m\u001b[0m\u001b[0;34m\u001b[0m\u001b[0m\n\u001b[1;32m      6\u001b[0m     \u001b[0max\u001b[0m\u001b[0;34m[\u001b[0m\u001b[0midx\u001b[0m\u001b[0;34m,\u001b[0m \u001b[0;36m2\u001b[0m\u001b[0;34m]\u001b[0m\u001b[0;34m.\u001b[0m\u001b[0mimshow\u001b[0m\u001b[0;34m(\u001b[0m\u001b[0mnp\u001b[0m\u001b[0;34m.\u001b[0m\u001b[0msqueeze\u001b[0m\u001b[0;34m(\u001b[0m\u001b[0mpredictions\u001b[0m\u001b[0;34m[\u001b[0m\u001b[0midx\u001b[0m\u001b[0;34m]\u001b[0m\u001b[0;34m)\u001b[0m\u001b[0;34m,\u001b[0m \u001b[0mcmap\u001b[0m \u001b[0;34m=\u001b[0m \u001b[0;34m'gray'\u001b[0m\u001b[0;34m)\u001b[0m\u001b[0;34m\u001b[0m\u001b[0;34m\u001b[0m\u001b[0m\n",
            "\u001b[0;31mIndexError\u001b[0m: index 5 is out of bounds for axis 0 with size 5"
          ]
        },
        {
          "output_type": "display_data",
          "data": {
            "image/png": "[encoded data removed]",
            "text/plain": [
              "<Figure size 1800x1800 with 15 Axes>"
            ]
          },
          "metadata": {
            "tags": [],
            "needs_background": "light"
          }
        }
      ]
    },
    {
      "cell_type": "markdown",
      "metadata": {
        "id": "Tc1fl4HNaYB0",
        "colab_type": "text"
      },
      "source": [
        "### Counting"
      ]
    },
    {
      "cell_type": "code",
      "metadata": {
        "id": "TjziHqWr7-_b",
        "colab_type": "code",
        "colab": {}
      },
      "source": [
        "def line_scan_count(maska):\n",
        "    h,w=maska.shape\n",
        "    totalklas = 0\n",
        "    oldlinecount = 0\n",
        "    for y in range(0, h):\n",
        "        oldc = 0\n",
        "        linecount = 0\n",
        "        start = 0   \n",
        "        for x in range(0, w):\n",
        "            c = maska[y,x] < 128;\n",
        "            if c == 1 and oldc == 0:\n",
        "                start = x\n",
        "            if c == 0 and oldc == 1 and (x - start) > 10:\n",
        "                linecount += 1\n",
        "            oldc = c\n",
        "        if oldlinecount != linecount:\n",
        "            if linecount < oldlinecount:\n",
        "                totalklas += oldlinecount - linecount\n",
        "            oldlinecount = linecount\n",
        "    return totalklas"
      ],
      "execution_count": 0,
      "outputs": []
    },
    {
      "cell_type": "code",
      "metadata": {
        "id": "gEBw0OYdaXPN",
        "colab_type": "code",
        "colab": {}
      },
      "source": [
        "os.chdir(\"C:\\\\Users\\\\Hunor\\\\Desktop\\\\University\\\\Semester 3\\\\Introduction to Image Processing\\\\Projekat\\\\all_mask\")"
      ],
      "execution_count": 0,
      "outputs": []
    },
    {
      "cell_type": "code",
      "metadata": {
        "id": "oH-GRPeSaaZ9",
        "colab_type": "code",
        "colab": {}
      },
      "source": [
        "df = pd.read_excel('Tim_No_4_Manual_Count.xlsx','Sheet1')\n",
        "df.head()"
      ],
      "execution_count": 0,
      "outputs": []
    },
    {
      "cell_type": "code",
      "metadata": {
        "id": "8bm0jUvSahms",
        "colab_type": "code",
        "colab": {}
      },
      "source": [
        "def python_count():\n",
        "    for i in range(62):\n",
        "        df.iloc[i,2]=line_scan_count(lista[i])"
      ],
      "execution_count": 0,
      "outputs": []
    },
    {
      "cell_type": "code",
      "metadata": {
        "id": "oqXiMxTfa1Dt",
        "colab_type": "code",
        "colab": {}
      },
      "source": [
        "df[\"average\"]=np.nan\n",
        "df[\"error\"]=np.nan"
      ],
      "execution_count": 0,
      "outputs": []
    },
    {
      "cell_type": "code",
      "metadata": {
        "id": "J7LbYpQ0a3ij",
        "colab_type": "code",
        "colab": {}
      },
      "source": [
        "for i in range(62):\n",
        "        df.iloc[i,3]=line_scan_count(np.transpose(lista[i]))\n",
        "        df.iloc[i,4]=(df.iloc[i,2]+df.iloc[i,3])/2\n",
        "        df.iloc[i,5]=abs(df.iloc[i,1]-df.iloc[i,2])"
      ],
      "execution_count": 0,
      "outputs": []
    },
    {
      "cell_type": "code",
      "metadata": {
        "id": "X77Wo6U0a41E",
        "colab_type": "code",
        "colab": {}
      },
      "source": [
        "for i in range(62):\n",
        "        df.iloc[i,5]=abs(df.iloc[i,1]-df.iloc[i,4])"
      ],
      "execution_count": 0,
      "outputs": []
    }
  ]
}