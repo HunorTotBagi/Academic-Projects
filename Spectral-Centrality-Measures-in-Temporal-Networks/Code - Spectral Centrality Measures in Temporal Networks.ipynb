{
 "cells": [
  {
   "cell_type": "markdown",
   "metadata": {},
   "source": [
    "# Network Science Project: Spectral centrality measures in temporal networks"
   ]
  },
  {
   "cell_type": "markdown",
   "metadata": {},
   "source": [
    "#### Importing libraries"
   ]
  },
  {
   "cell_type": "code",
   "execution_count": 1,
   "metadata": {},
   "outputs": [],
   "source": [
    "import numpy as np\n",
    "import operator\n",
    "import math"
   ]
  },
  {
   "cell_type": "markdown",
   "metadata": {},
   "source": [
    "# Function for better visualisation"
   ]
  },
  {
   "cell_type": "code",
   "execution_count": 2,
   "metadata": {},
   "outputs": [],
   "source": [
    "def OneToN(x): #Creating a vector with elements 1,2,3,4,...,n. Where n is the number of nodes.\n",
    "    n=len(x)\n",
    "    y=np.zeros(n)\n",
    "    for i in range(n):\n",
    "        y[i]=i+1\n",
    "    return y"
   ]
  },
  {
   "cell_type": "code",
   "execution_count": 3,
   "metadata": {},
   "outputs": [],
   "source": [
    "def NodesInOrder(vector): #Function that sorts nodes based on their scores givem by algorithm.\n",
    "    Ascending=OneToN(vector)\n",
    "    Dictionarry={}\n",
    "    for i in range(len(vector)):\n",
    "        Dictionarry[Ascending[i]]=vector[i]\n",
    "    return sorted(Dictionarry.items(), key=operator.itemgetter(1),reverse=True)"
   ]
  },
  {
   "cell_type": "code",
   "execution_count": 4,
   "metadata": {},
   "outputs": [],
   "source": [
    "#Netowrk in time 1-3\n",
    "A13=np.array([[0,1,0,0,1,0,1],[0,0,0,1,0,0,0],[1,1,0,0,1,0,0],[0,0,0,0,0,0,0],[0,0,0,0,0,0,0],[1,1,0,1,0,0,0],[1,0,0,0,1,1,0]])"
   ]
  },
  {
   "cell_type": "code",
   "execution_count": 5,
   "metadata": {},
   "outputs": [],
   "source": [
    "##Netowrk in time 3-5\n",
    "A35=np.array([[0,2,0,0,3,0,4],[0,0,0,5,0,0,0],[6,2,0,0,4,0,0],[0,0,0,0,0,0,0],[0,0,0,0,0,0,0],[2,1,0,5,0,0,0],[2,0,0,0,3,1,0]])"
   ]
  },
  {
   "cell_type": "code",
   "execution_count": 6,
   "metadata": {},
   "outputs": [],
   "source": [
    "#Netowrk in time 5-7\n",
    "A57=np.array([[0,2,0,0,3,0,4],[0,0,0,5,0,0,0],[6,2,0,0,4,0,0],[0,0,0,0,0,4,0],[0,0,0,0,0,2,0],[2,1,0,5,4,0,0],[2,0,0,0,3,1,0]])"
   ]
  },
  {
   "cell_type": "code",
   "execution_count": 7,
   "metadata": {},
   "outputs": [],
   "source": [
    "#Netowrk in time 7-9\n",
    "A79=np.array([[0,1,0,0,1,0,1],[0,0,0,1,0,0,0],[1,1,0,0,1,0,0],[0,0,0,0,0,1,0],[0,0,0,0,0,1,0],[1,1,0,1,1,0,0],[1,0,0,0,1,1,0]])"
   ]
  },
  {
   "cell_type": "markdown",
   "metadata": {},
   "source": [
    "# Algorithm 1: Temporal Power Iteration "
   ]
  },
  {
   "cell_type": "markdown",
   "metadata": {},
   "source": [
    "#### Functions that we use in the main algorithm:"
   ]
  },
  {
   "cell_type": "code",
   "execution_count": 8,
   "metadata": {},
   "outputs": [],
   "source": [
    "def MatVecRight(A,x):\n",
    "    return np.dot(A,x)"
   ]
  },
  {
   "cell_type": "code",
   "execution_count": 9,
   "metadata": {},
   "outputs": [],
   "source": [
    "def norm2(x):\n",
    "    square_sum=0\n",
    "    for i in range(x.shape[0]):\n",
    "        square_sum=square_sum+pow(x[i],2)\n",
    "    return np.sqrt(square_sum)"
   ]
  },
  {
   "cell_type": "code",
   "execution_count": 10,
   "metadata": {},
   "outputs": [],
   "source": [
    "def normalize(x):\n",
    "    return x/norm2(x)"
   ]
  },
  {
   "cell_type": "code",
   "execution_count": 11,
   "metadata": {},
   "outputs": [],
   "source": [
    "def test_dif(x,y):\n",
    "    z=x-y\n",
    "    return norm2(z)"
   ]
  },
  {
   "cell_type": "code",
   "execution_count": 12,
   "metadata": {},
   "outputs": [],
   "source": [
    "def scalProd(x,y):\n",
    "    result=0\n",
    "    for i in range(x.shape[0]):\n",
    "        result=result+(x[i]*y[i])\n",
    "    return result"
   ]
  },
  {
   "cell_type": "markdown",
   "metadata": {},
   "source": [
    "#### The main algorithm:"
   ]
  },
  {
   "cell_type": "code",
   "execution_count": 86,
   "metadata": {},
   "outputs": [],
   "source": [
    "def eigTemp(A,x,tol=pow(10,-6),maxIter=100):\n",
    "    i=0\n",
    "    convergence=False\n",
    "    while i<maxIter:\n",
    "        x_old=x\n",
    "        x=normalize(MatVecRight(A,x)) #normalize, x eigenvector\n",
    "        if test_dif(x,x_old)<tol:\n",
    "            convergence=True\n",
    "            break\n",
    "        i=i+1\n",
    "    ev=scalProd(x,MatVecRight(A,x)) #ev eigenvalue\n",
    "    return x,ev,convergence    "
   ]
  },
  {
   "cell_type": "markdown",
   "metadata": {},
   "source": [
    "# Algorithm 2: Temporal Eigenvalue Centrality"
   ]
  },
  {
   "cell_type": "markdown",
   "metadata": {},
   "source": [
    "#### Functions that we use in the main algorithm:"
   ]
  },
  {
   "cell_type": "code",
   "execution_count": 14,
   "metadata": {},
   "outputs": [],
   "source": [
    "def MatTrans(A):\n",
    "    return A.T"
   ]
  },
  {
   "cell_type": "code",
   "execution_count": 15,
   "metadata": {},
   "outputs": [],
   "source": [
    "def VecConst(n):\n",
    "    return np.ones(n)"
   ]
  },
  {
   "cell_type": "code",
   "execution_count": 16,
   "metadata": {},
   "outputs": [],
   "source": [
    "def numInv(a):\n",
    "    return 1/a"
   ]
  },
  {
   "cell_type": "code",
   "execution_count": 17,
   "metadata": {},
   "outputs": [],
   "source": [
    "def numVecProd(a,x):\n",
    "    return a*x"
   ]
  },
  {
   "cell_type": "markdown",
   "metadata": {},
   "source": [
    "#### The main algorithm:"
   ]
  },
  {
   "cell_type": "code",
   "execution_count": 18,
   "metadata": {},
   "outputs": [],
   "source": [
    "def inEig(A):\n",
    "    x,ev,conv=eigTemp(MatTrans(A),VecConst(A.shape[0]))\n",
    "    x=numVecProd(numInv(ev),x)\n",
    "    return x,conv\n",
    "def outEig(A):\n",
    "    x,ev,conv=eigTemp(A,VecConst(A.shape[0]))\n",
    "    x=numVecProd(numInv(ev),x)\n",
    "    return x,conv"
   ]
  },
  {
   "cell_type": "code",
   "execution_count": 89,
   "metadata": {
    "scrolled": true
   },
   "outputs": [
    {
     "data": {
      "text/plain": [
       "(array([0.28929876, 0.34283015, 0.        , 0.38323959, 0.38323959,\n",
       "        0.1648541 , 0.21838549]), True)"
      ]
     },
     "execution_count": 89,
     "metadata": {},
     "output_type": "execute_result"
    }
   ],
   "source": [
    "inEig(A13)"
   ]
  },
  {
   "cell_type": "code",
   "execution_count": 19,
   "metadata": {},
   "outputs": [
    {
     "data": {
      "text/plain": [
       "[(4.0, 0.38323959281071945),\n",
       " (5.0, 0.38323959281071945),\n",
       " (2.0, 0.3428301504546229),\n",
       " (1.0, 0.28929875962810886),\n",
       " (7.0, 0.21838549181861674),\n",
       " (6.0, 0.1648541009921027),\n",
       " (3.0, 0.0)]"
      ]
     },
     "execution_count": 19,
     "metadata": {},
     "output_type": "execute_result"
    }
   ],
   "source": [
    "NodesInOrder(inEig(A13)[0])"
   ]
  },
  {
   "cell_type": "code",
   "execution_count": 20,
   "metadata": {},
   "outputs": [
    {
     "data": {
      "text/plain": [
       "[(5.0, 0.1977165029359666),\n",
       " (4.0, 0.1647637524466388),\n",
       " (7.0, 0.1178952801886321),\n",
       " (1.0, 0.0953793431493424),\n",
       " (2.0, 0.07020563073748974),\n",
       " (6.0, 0.0364316809314975),\n",
       " (3.0, 0.0)]"
      ]
     },
     "execution_count": 20,
     "metadata": {},
     "output_type": "execute_result"
    }
   ],
   "source": [
    "NodesInOrder(inEig(A35)[0])"
   ]
  },
  {
   "cell_type": "code",
   "execution_count": 21,
   "metadata": {},
   "outputs": [
    {
     "data": {
      "text/plain": [
       "[(4.0, 0.09060267067273253),\n",
       " (6.0, 0.08822586927649721),\n",
       " (5.0, 0.08401723940252281),\n",
       " (1.0, 0.035348776020060625),\n",
       " (2.0, 0.025354545633545576),\n",
       " (7.0, 0.022558118955545263),\n",
       " (3.0, 0.0)]"
      ]
     },
     "execution_count": 21,
     "metadata": {},
     "output_type": "execute_result"
    }
   ],
   "source": [
    "NodesInOrder(inEig(A57)[0])"
   ]
  },
  {
   "cell_type": "code",
   "execution_count": 22,
   "metadata": {},
   "outputs": [
    {
     "data": {
      "text/plain": [
       "[(6.0, 0.25055920117339614),\n",
       " (5.0, 0.23178055289678445),\n",
       " (4.0, 0.214409347589365),\n",
       " (2.0, 0.1956306993127533),\n",
       " (1.0, 0.15655198008676444),\n",
       " (7.0, 0.07522857281001999),\n",
       " (3.0, 0.0)]"
      ]
     },
     "execution_count": 22,
     "metadata": {},
     "output_type": "execute_result"
    }
   ],
   "source": [
    "NodesInOrder(inEig(A79)[0])"
   ]
  },
  {
   "cell_type": "code",
   "execution_count": 23,
   "metadata": {},
   "outputs": [
    {
     "data": {
      "text/plain": [
       "[(7.0, 0.506723582443658),\n",
       " (1.0, 0.3825140269734168),\n",
       " (3.0, 0.288751382036271),\n",
       " (6.0, 0.288751382036271),\n",
       " (2.0, 0.0),\n",
       " (4.0, 0.0),\n",
       " (5.0, 0.0)]"
      ]
     },
     "execution_count": 23,
     "metadata": {},
     "output_type": "execute_result"
    }
   ],
   "source": [
    "NodesInOrder(outEig(A13)[0])"
   ]
  },
  {
   "cell_type": "code",
   "execution_count": 24,
   "metadata": {},
   "outputs": [
    {
     "data": {
      "text/plain": [
       "[(3.0, 0.24488220399751592),\n",
       " (1.0, 0.13207579228739402),\n",
       " (7.0, 0.10685161924706503),\n",
       " (6.0, 0.08162740133250532),\n",
       " (2.0, 0.0),\n",
       " (4.0, 0.0),\n",
       " (5.0, 0.0)]"
      ]
     },
     "execution_count": 24,
     "metadata": {},
     "output_type": "execute_result"
    }
   ],
   "source": [
    "NodesInOrder(outEig(A35)[0])"
   ]
  },
  {
   "cell_type": "code",
   "execution_count": 25,
   "metadata": {},
   "outputs": [
    {
     "data": {
      "text/plain": [
       "[(6.0, 0.08622967893067747),\n",
       " (3.0, 0.08488202453068001),\n",
       " (1.0, 0.05569943615737886),\n",
       " (4.0, 0.055028057334776594),\n",
       " (7.0, 0.044698255990850956),\n",
       " (2.0, 0.043895768514011745),\n",
       " (5.0, 0.027514028667388297)]"
      ]
     },
     "execution_count": 25,
     "metadata": {},
     "output_type": "execute_result"
    }
   ],
   "source": [
    "NodesInOrder(outEig(A57)[0])"
   ]
  },
  {
   "cell_type": "code",
   "execution_count": 26,
   "metadata": {},
   "outputs": [
    {
     "data": {
      "text/plain": [
       "[(7.0, 0.267193318164005),\n",
       " (6.0, 0.23465609673068194),\n",
       " (1.0, 0.20861825590466235),\n",
       " (3.0, 0.1804710611378959),\n",
       " (4.0, 0.11276009785212866),\n",
       " (5.0, 0.11276009785212866),\n",
       " (2.0, 0.05418503559278604)]"
      ]
     },
     "execution_count": 26,
     "metadata": {},
     "output_type": "execute_result"
    }
   ],
   "source": [
    "NodesInOrder(outEig(A79)[0])"
   ]
  },
  {
   "cell_type": "markdown",
   "metadata": {},
   "source": [
    "# Algorithm 3: Temporal Jacobi Iteration"
   ]
  },
  {
   "cell_type": "markdown",
   "metadata": {},
   "source": [
    "#### Functions that we use in the main algorithm:"
   ]
  },
  {
   "cell_type": "code",
   "execution_count": 27,
   "metadata": {},
   "outputs": [],
   "source": [
    "def MatSetDiagVec(inverse):\n",
    "    m=len(inverse)\n",
    "    D=np.zeros((m,m))\n",
    "    for i in range(m):\n",
    "        D[i,i]=inverse[i]\n",
    "    return D"
   ]
  },
  {
   "cell_type": "code",
   "execution_count": 28,
   "metadata": {},
   "outputs": [],
   "source": [
    "def vecInv(vector):\n",
    "    inverse=np.zeros([len(vector)])\n",
    "    for i in range(len(vector)):\n",
    "        inverse[i]=1/vector[i]\n",
    "    return inverse"
   ]
  },
  {
   "cell_type": "code",
   "execution_count": 29,
   "metadata": {},
   "outputs": [],
   "source": [
    "def diag(A):\n",
    "    vector=np.zeros([A.shape[0]])\n",
    "    for i in range(A.shape[0]):\n",
    "        vector[i]=A[i,i]\n",
    "    return vector"
   ]
  },
  {
   "cell_type": "code",
   "execution_count": 30,
   "metadata": {},
   "outputs": [],
   "source": [
    "def MatMinus(A):\n",
    "    return -1*A"
   ]
  },
  {
   "cell_type": "code",
   "execution_count": 31,
   "metadata": {},
   "outputs": [],
   "source": [
    "def MatSetDiagZero(A):\n",
    "    size=A.shape[0]\n",
    "    D=np.zeros([size,size])\n",
    "    for i in range(size):\n",
    "        for j in range(size):\n",
    "            D[i,j]=A[i,j]\n",
    "    for i in range(size):\n",
    "        D[i,i]=0\n",
    "    return D"
   ]
  },
  {
   "cell_type": "code",
   "execution_count": 32,
   "metadata": {},
   "outputs": [],
   "source": [
    "def VecSum(first,second):\n",
    "    return first+second"
   ]
  },
  {
   "cell_type": "markdown",
   "metadata": {},
   "source": [
    "#### The main algorithm:"
   ]
  },
  {
   "cell_type": "code",
   "execution_count": 33,
   "metadata": {},
   "outputs": [],
   "source": [
    "def jacobi(A,b,x,tol=pow(10,-6),maxIter=100):\n",
    "    invD=MatSetDiagVec(vecInv(diag(A)))\n",
    "    B=MatMinus(MatSetDiagZero(A))\n",
    "    i=0\n",
    "    convergence=False\n",
    "    while i<maxIter:\n",
    "        i=i+1\n",
    "        xn=MatVecRight(invD,VecSum(MatVecRight(B,x),b))\n",
    "        if test_dif(x,xn)<tol:\n",
    "            convergence=True\n",
    "            break\n",
    "        x=xn\n",
    "    return xn,convergence"
   ]
  },
  {
   "cell_type": "markdown",
   "metadata": {},
   "source": [
    "##### Testing"
   ]
  },
  {
   "cell_type": "code",
   "execution_count": 34,
   "metadata": {},
   "outputs": [
    {
     "data": {
      "text/plain": [
       "array([[ 1,  1,  1],\n",
       "       [ 2,  2,  3],\n",
       "       [ 1, -3,  5]])"
      ]
     },
     "execution_count": 34,
     "metadata": {},
     "output_type": "execute_result"
    }
   ],
   "source": [
    "C=np.array([[1,1,1],[2,2,3],[1,-3,5]]) #random matrix C\n",
    "C"
   ]
  },
  {
   "cell_type": "code",
   "execution_count": 35,
   "metadata": {},
   "outputs": [
    {
     "data": {
      "text/plain": [
       "array([0.39773865, 0.80206569, 0.32098355])"
      ]
     },
     "execution_count": 35,
     "metadata": {},
     "output_type": "execute_result"
    }
   ],
   "source": [
    "b=np.array([4,2,6]) #right hand side\n",
    "x=np.random.rand(3) #initiate random numbers for unknow vector X\n",
    "x"
   ]
  },
  {
   "cell_type": "code",
   "execution_count": 36,
   "metadata": {},
   "outputs": [],
   "source": [
    "result,true_false=jacobi(C,b,x)"
   ]
  },
  {
   "cell_type": "code",
   "execution_count": 37,
   "metadata": {},
   "outputs": [
    {
     "data": {
      "text/plain": [
       "(array([16.49999684, -6.49999896, -5.99999846]), True)"
      ]
     },
     "execution_count": 37,
     "metadata": {},
     "output_type": "execute_result"
    }
   ],
   "source": [
    "result,true_false"
   ]
  },
  {
   "cell_type": "code",
   "execution_count": 38,
   "metadata": {},
   "outputs": [
    {
     "data": {
      "text/plain": [
       "array([3.99999942, 2.00000038, 6.00000141])"
      ]
     },
     "execution_count": 38,
     "metadata": {},
     "output_type": "execute_result"
    }
   ],
   "source": [
    "MatVecRight(C,result) #A*res == b?"
   ]
  },
  {
   "cell_type": "code",
   "execution_count": 39,
   "metadata": {},
   "outputs": [
    {
     "data": {
      "text/plain": [
       "array([5.78483972e-07, 3.81551423e-07, 1.40882317e-06])"
      ]
     },
     "execution_count": 39,
     "metadata": {},
     "output_type": "execute_result"
    }
   ],
   "source": [
    "abs(b-MatVecRight(C,result)) #working pretty good"
   ]
  },
  {
   "cell_type": "markdown",
   "metadata": {},
   "source": [
    "# Algorithm 4: Temporal Katz centrality"
   ]
  },
  {
   "cell_type": "markdown",
   "metadata": {},
   "source": [
    "#### Functions that we use in the main algorithm:"
   ]
  },
  {
   "cell_type": "code",
   "execution_count": 40,
   "metadata": {},
   "outputs": [],
   "source": [
    "def MatVecLeft(A,B):\n",
    "    return np.dot(B,A)"
   ]
  },
  {
   "cell_type": "code",
   "execution_count": 41,
   "metadata": {},
   "outputs": [],
   "source": [
    "def VecMax(x):\n",
    "    return float(sum(x))"
   ]
  },
  {
   "cell_type": "code",
   "execution_count": 42,
   "metadata": {},
   "outputs": [],
   "source": [
    "def MatDiff(A,B):\n",
    "    return A-B"
   ]
  },
  {
   "cell_type": "code",
   "execution_count": 43,
   "metadata": {},
   "outputs": [],
   "source": [
    "def MatSum(A,B):\n",
    "    return A+B"
   ]
  },
  {
   "cell_type": "markdown",
   "metadata": {},
   "source": [
    "#### The main algorithm:"
   ]
  },
  {
   "cell_type": "code",
   "execution_count": 44,
   "metadata": {},
   "outputs": [],
   "source": [
    "def katz(A,a=None):\n",
    "    n=A.shape[0]\n",
    "    d=MatVecLeft(A,VecConst(n))\n",
    "    maxi=0\n",
    "    if a==None:\n",
    "        for i in range(len(d)): \n",
    "            if VecMax(A[:,i])>maxi:\n",
    "                maxi=VecMax(A[:,i])\n",
    "        a=0.999/maxi\n",
    "    B=1/a*np.eye(n)\n",
    "    B=MatDiff(B,MatTrans(A))\n",
    "    t,conv=jacobi(B,d,VecConst(n))\n",
    "    m=math.factorial(n-1)*pow(a,n-1)*pow(np.exp(1),1/a)\n",
    "    m=1/m\n",
    "    return numVecProd(m,t),conv"
   ]
  },
  {
   "cell_type": "code",
   "execution_count": 45,
   "metadata": {},
   "outputs": [
    {
     "data": {
      "text/plain": [
       "[(5.0, 0.08701521909559679),\n",
       " (2.0, 0.08602060537673469),\n",
       " (1.0, 0.07938985011441337),\n",
       " (4.0, 0.06373888070803742),\n",
       " (7.0, 0.03518481798517937),\n",
       " (6.0, 0.028554062722858053),\n",
       " (3.0, 0.0)]"
      ]
     },
     "execution_count": 45,
     "metadata": {},
     "output_type": "execute_result"
    }
   ],
   "source": [
    "NodesInOrder(katz(A13,0.15)[0])"
   ]
  },
  {
   "cell_type": "code",
   "execution_count": 46,
   "metadata": {},
   "outputs": [
    {
     "data": {
      "text/plain": [
       "[(5.0, 0.5215015962375534),\n",
       " (4.0, 0.4559213070532239),\n",
       " (1.0, 0.342834378394488),\n",
       " (7.0, 0.298806005247417),\n",
       " (2.0, 0.22944660718280882),\n",
       " (6.0, 0.06809724625058437),\n",
       " (3.0, 0.0)]"
      ]
     },
     "execution_count": 46,
     "metadata": {},
     "output_type": "execute_result"
    }
   ],
   "source": [
    "NodesInOrder(katz(A35,0.15)[0])"
   ]
  },
  {
   "cell_type": "code",
   "execution_count": 47,
   "metadata": {},
   "outputs": [
    {
     "data": {
      "text/plain": [
       "[(4.0, 4.52872529768924),\n",
       " (6.0, 4.37954829572241),\n",
       " (5.0, 4.3772466717108145),\n",
       " (1.0, 1.9198856954874877),\n",
       " (2.0, 1.349127210056215),\n",
       " (7.0, 1.2449011485451351),\n",
       " (3.0, 0.0)]"
      ]
     },
     "execution_count": 47,
     "metadata": {},
     "output_type": "execute_result"
    }
   ],
   "source": [
    "NodesInOrder(katz(A57,0.15)[0])"
   ]
  },
  {
   "cell_type": "code",
   "execution_count": 48,
   "metadata": {},
   "outputs": [
    {
     "data": {
      "text/plain": [
       "[(5.0, 0.1282818514384184),\n",
       " (6.0, 0.1062280834891516),\n",
       " (2.0, 0.0994596050860777),\n",
       " (1.0, 0.09130913962461935),\n",
       " (4.0, 0.07740583713681091),\n",
       " (7.0, 0.03697271181379904),\n",
       " (3.0, 0.0)]"
      ]
     },
     "execution_count": 48,
     "metadata": {},
     "output_type": "execute_result"
    }
   ],
   "source": [
    "NodesInOrder(katz(A79,0.15)[0])"
   ]
  },
  {
   "cell_type": "markdown",
   "metadata": {},
   "source": [
    "# Algorithm 5: Temporal Bonacich alpha centrality"
   ]
  },
  {
   "cell_type": "markdown",
   "metadata": {},
   "source": [
    "#### The main algorithm:"
   ]
  },
  {
   "cell_type": "code",
   "execution_count": 91,
   "metadata": {},
   "outputs": [],
   "source": [
    "def alpha(A,a, s=None):#Not working for me, i really can't find the error :/\n",
    "    if s==None:\n",
    "        s=VecConst(A.shape[0])\n",
    "    return jacobi(np.identity(A.shape[0])-(a*(A.T)),s,VecConst(A.shape[0]))"
   ]
  },
  {
   "cell_type": "markdown",
   "metadata": {},
   "source": [
    "##### Testing"
   ]
  },
  {
   "cell_type": "code",
   "execution_count": 92,
   "metadata": {},
   "outputs": [
    {
     "data": {
      "text/plain": [
       "(array([2.64220924e+44, 1.94484561e+44, 1.00000000e+00, 4.56430421e+44,\n",
       "        5.47716506e+44, 1.00923413e+44, 3.26595024e+44]), False)"
      ]
     },
     "execution_count": 92,
     "metadata": {},
     "output_type": "execute_result"
    }
   ],
   "source": [
    "alpha(A35,0.85)"
   ]
  },
  {
   "cell_type": "code",
   "execution_count": 51,
   "metadata": {},
   "outputs": [
    {
     "data": {
      "text/plain": [
       "[(5.0, 2664175.6544733457),\n",
       " (4.0, 2664174.8044733456),\n",
       " (2.0, 2383260.5847311434),\n",
       " (1.0, 2011127.036358026),\n",
       " (7.0, 1518154.6764232314),\n",
       " (6.0, 1146021.128050114),\n",
       " (3.0, 1.0)]"
      ]
     },
     "execution_count": 51,
     "metadata": {},
     "output_type": "execute_result"
    }
   ],
   "source": [
    "NodesInOrder(alpha(A13,0.85)[0])"
   ]
  },
  {
   "cell_type": "code",
   "execution_count": 52,
   "metadata": {},
   "outputs": [
    {
     "data": {
      "text/plain": [
       "[(5.0, 5.477165055839387e+44),\n",
       " (4.0, 4.56430421319949e+44),\n",
       " (7.0, 3.26595023702488e+44),\n",
       " (1.0, 2.6422092445360162e+44),\n",
       " (2.0, 1.9448456147568724e+44),\n",
       " (6.0, 1.0092341260235758e+44),\n",
       " (3.0, 1.0)]"
      ]
     },
     "execution_count": 52,
     "metadata": {},
     "output_type": "execute_result"
    }
   ],
   "source": [
    "NodesInOrder(alpha(A35,0.85)[0])"
   ]
  },
  {
   "cell_type": "code",
   "execution_count": 53,
   "metadata": {},
   "outputs": [
    {
     "data": {
      "text/plain": [
       "[(4.0, 1.0561031039951371e+73),\n",
       " (6.0, 1.0283971904927055e+73),\n",
       " (5.0, 9.793404252479036e+72),\n",
       " (1.0, 4.120403866403615e+72),\n",
       " (2.0, 2.9554317897573465e+72),\n",
       " (7.0, 2.62946665246507e+72),\n",
       " (3.0, 1.0)]"
      ]
     },
     "execution_count": 53,
     "metadata": {},
     "output_type": "execute_result"
    }
   ],
   "source": [
    "NodesInOrder(alpha(A57,0.85)[0])"
   ]
  },
  {
   "cell_type": "code",
   "execution_count": 54,
   "metadata": {
    "scrolled": true
   },
   "outputs": [
    {
     "data": {
      "text/plain": [
       "[(6.0, 2.3012704045561674e+25),\n",
       " (5.0, 2.1287973770505854e+25),\n",
       " (4.0, 1.96925066413978e+25),\n",
       " (2.0, 1.7967776366341986e+25),\n",
       " (1.0, 1.4378579899897374e+25),\n",
       " (7.0, 6.90939387060848e+24),\n",
       " (3.0, 1.0)]"
      ]
     },
     "execution_count": 54,
     "metadata": {},
     "output_type": "execute_result"
    }
   ],
   "source": [
    "NodesInOrder(alpha(A79,0.85)[0])"
   ]
  },
  {
   "cell_type": "markdown",
   "metadata": {},
   "source": [
    "# Algorithm 6: Bonacich (alpha,beta) centrality"
   ]
  },
  {
   "cell_type": "markdown",
   "metadata": {},
   "source": [
    "#### The main algorithm:"
   ]
  },
  {
   "cell_type": "code",
   "execution_count": 55,
   "metadata": {},
   "outputs": [],
   "source": [
    "def bonacich(A,b,a=None):\n",
    "    normB=False\n",
    "    if a==None:\n",
    "        a=1\n",
    "        normB=True\n",
    "    b1=numVecProd(a,MatVecRight(A,VecConst(A.shape[0])))\n",
    "    B=MatSum(np.identity(A.shape[0]),-b*A)\n",
    "    x,conv=jacobi(B,b1,VecConst(A.shape[0]))\n",
    "    if normB:\n",
    "        x=numVecProd(np.sqrt(A.shape[0]),normalize(x))\n",
    "    return x,conv"
   ]
  },
  {
   "cell_type": "markdown",
   "metadata": {},
   "source": [
    "##### Testing"
   ]
  },
  {
   "cell_type": "code",
   "execution_count": 56,
   "metadata": {},
   "outputs": [
    {
     "data": {
      "text/plain": [
       "[(7.0, 1.4104424003845288),\n",
       " (1.0, 1.2892726381711272),\n",
       " (3.0, 1.2710971758218697),\n",
       " (6.0, 1.2710971758218697),\n",
       " (2.0, 0.34212897991273156),\n",
       " (4.0, 0.0),\n",
       " (5.0, 0.0)]"
      ]
     },
     "execution_count": 56,
     "metadata": {},
     "output_type": "execute_result"
    }
   ],
   "source": [
    "NodesInOrder(bonacich(A13,0.15)[0])"
   ]
  },
  {
   "cell_type": "code",
   "execution_count": 57,
   "metadata": {},
   "outputs": [
    {
     "data": {
      "text/plain": [
       "[(3.0, 1.9514280499813526),\n",
       " (1.0, 1.2052598669579724),\n",
       " (6.0, 0.9233241858397826),\n",
       " (7.0, 0.8852739968468359),\n",
       " (2.0, 0.3209978460933312),\n",
       " (4.0, 0.0),\n",
       " (5.0, 0.0)]"
      ]
     },
     "execution_count": 57,
     "metadata": {},
     "output_type": "execute_result"
    }
   ],
   "source": [
    "NodesInOrder(bonacich(A35,0.15)[0])"
   ]
  },
  {
   "cell_type": "code",
   "execution_count": 58,
   "metadata": {},
   "outputs": [
    {
     "data": {
      "text/plain": [
       "[(3.0, 1.427626109592854),\n",
       " (6.0, 1.4249361893716217),\n",
       " (1.0, 0.9386029386842797),\n",
       " (4.0, 0.8892820324670281),\n",
       " (7.0, 0.7469676528960576),\n",
       " (2.0, 0.7099128325802996),\n",
       " (5.0, 0.44464101623351404)]"
      ]
     },
     "execution_count": 58,
     "metadata": {},
     "output_type": "execute_result"
    }
   ],
   "source": [
    "NodesInOrder(bonacich(A57,0.15)[0])"
   ]
  },
  {
   "cell_type": "code",
   "execution_count": 59,
   "metadata": {},
   "outputs": [
    {
     "data": {
      "text/plain": [
       "[(6.0, 1.4700311721322585),\n",
       " (7.0, 1.2895542936151132),\n",
       " (1.0, 1.1432910493683042),\n",
       " (3.0, 1.1213515645574232),\n",
       " (4.0, 0.4949428518216443),\n",
       " (5.0, 0.4949428518216443),\n",
       " (2.0, 0.34867960757483535)]"
      ]
     },
     "execution_count": 59,
     "metadata": {},
     "output_type": "execute_result"
    }
   ],
   "source": [
    "NodesInOrder(bonacich(A79,0.15)[0])"
   ]
  },
  {
   "cell_type": "markdown",
   "metadata": {},
   "source": [
    "# Algorithm 7: Power iteration for computing the eigenvalues of A.T*A"
   ]
  },
  {
   "cell_type": "markdown",
   "metadata": {},
   "source": [
    "#### Functions that we use in the main algorithm:"
   ]
  },
  {
   "cell_type": "code",
   "execution_count": 60,
   "metadata": {},
   "outputs": [],
   "source": [
    "def MatTransVecRight(A,x):\n",
    "    return np.dot(A.T,x)"
   ]
  },
  {
   "cell_type": "markdown",
   "metadata": {},
   "source": [
    "#### The main algorithm:"
   ]
  },
  {
   "cell_type": "code",
   "execution_count": 61,
   "metadata": {},
   "outputs": [],
   "source": [
    "def singTemp(A,x,tol=pow(10,-6),maxIter=100):\n",
    "    i=0\n",
    "    convergence=False\n",
    "    while i<maxIter:\n",
    "        x_old=x\n",
    "        x=normalize(MatTransVecRight(A,MatVecRight(A,x)))\n",
    "        if test_dif(x,x_old)<tol:\n",
    "            convergence=True\n",
    "            break\n",
    "        i=i+1\n",
    "    ev=scalProd(x,MatTransVecRight(A,MatVecRight(A,x)))\n",
    "    return x,ev,convergence"
   ]
  },
  {
   "cell_type": "markdown",
   "metadata": {},
   "source": [
    "# Algorithm 8: Hubs and authorities (HITS Algorithm)"
   ]
  },
  {
   "cell_type": "markdown",
   "metadata": {},
   "source": [
    "#### The main algorithm:"
   ]
  },
  {
   "cell_type": "code",
   "execution_count": 62,
   "metadata": {},
   "outputs": [],
   "source": [
    "def hits(A):\n",
    "    y,evy,conv=singTemp(A,VecConst(A.shape[0]))\n",
    "    x=normalize(MatVecRight(A,y))\n",
    "    evInv=numInv(evy)\n",
    "    y=numVecProd(evInv,y)\n",
    "    x=numVecProd(evInv,x)\n",
    "    return x,y,conv"
   ]
  },
  {
   "cell_type": "markdown",
   "metadata": {},
   "source": [
    "##### Testing"
   ]
  },
  {
   "cell_type": "code",
   "execution_count": 63,
   "metadata": {},
   "outputs": [
    {
     "data": {
      "text/plain": [
       "[(3.0, 0.07813945527502619),\n",
       " (6.0, 0.06150098818767857),\n",
       " (1.0, 0.059857806195413595),\n",
       " (7.0, 0.059857806195413595),\n",
       " (2.0, 0.009264596969477372),\n",
       " (4.0, 0.0),\n",
       " (5.0, 0.0)]"
      ]
     },
     "execution_count": 63,
     "metadata": {},
     "output_type": "execute_result"
    }
   ],
   "source": [
    "NodesInOrder(hits(A13)[0])"
   ]
  },
  {
   "cell_type": "code",
   "execution_count": 64,
   "metadata": {},
   "outputs": [
    {
     "data": {
      "text/plain": [
       "[(3.0, 0.00992624759750904),\n",
       " (7.0, 0.004464306426780718),\n",
       " (6.0, 0.0043351296874453845),\n",
       " (1.0, 0.0041096146404701024),\n",
       " (2.0, 0.001987414184883836),\n",
       " (4.0, 0.0),\n",
       " (5.0, 0.0)]"
      ]
     },
     "execution_count": 64,
     "metadata": {},
     "output_type": "execute_result"
    }
   ],
   "source": [
    "NodesInOrder(hits(A35)[0])"
   ]
  },
  {
   "cell_type": "code",
   "execution_count": 65,
   "metadata": {},
   "outputs": [
    {
     "data": {
      "text/plain": [
       "[(3.0, 0.006357327612411748),\n",
       " (6.0, 0.005812859783106858),\n",
       " (7.0, 0.003082619239216009),\n",
       " (1.0, 0.0028761463042818883),\n",
       " (2.0, 0.0018798058771986642),\n",
       " (4.0, 0.00014981125504580142),\n",
       " (5.0, 7.490562752290071e-05)]"
      ]
     },
     "execution_count": 65,
     "metadata": {},
     "output_type": "execute_result"
    }
   ],
   "source": [
    "NodesInOrder(hits(A57)[0])"
   ]
  },
  {
   "cell_type": "code",
   "execution_count": 66,
   "metadata": {},
   "outputs": [
    {
     "data": {
      "text/plain": [
       "[(6.0, 0.06282082031012431),\n",
       " (3.0, 0.05547216308327821),\n",
       " (7.0, 0.04448142399956215),\n",
       " (1.0, 0.04292015098147593),\n",
       " (2.0, 0.0073486572268461016),\n",
       " (4.0, 0.005892671334141675),\n",
       " (5.0, 0.005892671334141675)]"
      ]
     },
     "execution_count": 66,
     "metadata": {},
     "output_type": "execute_result"
    }
   ],
   "source": [
    "NodesInOrder(hits(A79)[0])"
   ]
  },
  {
   "cell_type": "code",
   "execution_count": 67,
   "metadata": {},
   "outputs": [
    {
     "data": {
      "text/plain": [
       "[(1.0, 0.07218403342215594),\n",
       " (2.0, 0.07218403342215593),\n",
       " (5.0, 0.07158946466281137),\n",
       " (4.0, 0.02560498387011615),\n",
       " (6.0, 0.021658216557721894),\n",
       " (7.0, 0.021658216557721894),\n",
       " (3.0, 0.0)]"
      ]
     },
     "execution_count": 67,
     "metadata": {},
     "output_type": "execute_result"
    }
   ],
   "source": [
    "NodesInOrder(hits(A13)[1])"
   ]
  },
  {
   "cell_type": "code",
   "execution_count": 68,
   "metadata": {},
   "outputs": [
    {
     "data": {
      "text/plain": [
       "[(1.0, 0.008651661490188174),\n",
       " (5.0, 0.007336401090878623),\n",
       " (2.0, 0.003633830515415609),\n",
       " (4.0, 0.003544790312388904),\n",
       " (7.0, 0.0018432689486385183),\n",
       " (6.0, 0.0005005894365912132),\n",
       " (3.0, 0.0)]"
      ]
     },
     "execution_count": 68,
     "metadata": {},
     "output_type": "execute_result"
    }
   ],
   "source": [
    "NodesInOrder(hits(A35)[1])"
   ]
  },
  {
   "cell_type": "code",
   "execution_count": 69,
   "metadata": {},
   "outputs": [
    {
     "data": {
      "text/plain": [
       "[(5.0, 0.006580243340381865),\n",
       " (1.0, 0.00553007379502031),\n",
       " (4.0, 0.0038027262006044074),\n",
       " (2.0, 0.002400452555040212),\n",
       " (7.0, 0.0011374145980066043),\n",
       " (6.0, 0.00037882314845527225),\n",
       " (3.0, 0.0)]"
      ]
     },
     "execution_count": 69,
     "metadata": {},
     "output_type": "execute_result"
    }
   ],
   "source": [
    "NodesInOrder(hits(A57)[1])"
   ]
  },
  {
   "cell_type": "code",
   "execution_count": 70,
   "metadata": {},
   "outputs": [
    {
     "data": {
      "text/plain": [
       "[(5.0, 0.06656603801507417),\n",
       " (1.0, 0.05267639628760718),\n",
       " (2.0, 0.05217113325771372),\n",
       " (4.0, 0.02270795804629237),\n",
       " (6.0, 0.01820884133055525),\n",
       " (7.0, 0.013889641727466992),\n",
       " (3.0, 0.0)]"
      ]
     },
     "execution_count": 70,
     "metadata": {},
     "output_type": "execute_result"
    }
   ],
   "source": [
    "NodesInOrder(hits(A79)[1])"
   ]
  },
  {
   "cell_type": "markdown",
   "metadata": {},
   "source": [
    "# Algorithm 9: The temporal PageRank algorithm"
   ]
  },
  {
   "cell_type": "markdown",
   "metadata": {},
   "source": [
    "#### Functions that we use in the main algorithm:"
   ]
  },
  {
   "cell_type": "code",
   "execution_count": 71,
   "metadata": {},
   "outputs": [],
   "source": [
    "def vecInvPR1(s,A):\n",
    "    n=len(s)\n",
    "    index=[]\n",
    "    for i in range(len(s)):\n",
    "        if s[i]==0:\n",
    "            index.append(i)\n",
    "    D=np.dot(MatSetDiagVec(vecInv(s)),A)\n",
    "    for i in index:\n",
    "        D[i,:]=1/n\n",
    "    return D"
   ]
  },
  {
   "cell_type": "code",
   "execution_count": 72,
   "metadata": {},
   "outputs": [],
   "source": [
    "def DiagMatProd(x,A):\n",
    "    n=len(x)\n",
    "    G=np.zeros([n,n])\n",
    "    for i in range(n):\n",
    "        G[i,i]=x[i]\n",
    "    return np.dot(G,A)"
   ]
  },
  {
   "cell_type": "code",
   "execution_count": 73,
   "metadata": {},
   "outputs": [],
   "source": [
    "def constantMat(n,m):\n",
    "    A=m*np.ones([n,n])\n",
    "    return A"
   ]
  },
  {
   "cell_type": "code",
   "execution_count": 74,
   "metadata": {},
   "outputs": [],
   "source": [
    "def norm1(x):\n",
    "    n=len(x)\n",
    "    total=0\n",
    "    for i in range(n):\n",
    "        total=total+x[i]\n",
    "    return x/total"
   ]
  },
  {
   "cell_type": "markdown",
   "metadata": {},
   "source": [
    "#### The main algorithm:"
   ]
  },
  {
   "cell_type": "code",
   "execution_count": 75,
   "metadata": {},
   "outputs": [],
   "source": [
    "def pageRank(A,q=0.15):\n",
    "    n=A.shape[0]\n",
    "    S=np.zeros([n,n])\n",
    "    s=MatVecRight(A,VecConst(n))\n",
    "    S=vecInvPR1(s,A)    \n",
    "    M=q/n*np.ones([n,n])+(1-q)*S\n",
    "    x,ev,conv=eigTemp(MatTrans(M),VecConst(n))\n",
    "    x=norm1(x)\n",
    "    return x,conv"
   ]
  },
  {
   "cell_type": "code",
   "execution_count": 76,
   "metadata": {},
   "outputs": [
    {
     "name": "stderr",
     "output_type": "stream",
     "text": [
      "C:\\Users\\giaw\\Anaconda3\\lib\\site-packages\\ipykernel_launcher.py:4: RuntimeWarning: divide by zero encountered in double_scalars\n",
      "  after removing the cwd from sys.path.\n"
     ]
    },
    {
     "data": {
      "text/plain": [
       "(array([0.15107022, 0.16185577, 0.07020052, 0.23673982, 0.16491165,\n",
       "        0.10221824, 0.11300379]), True)"
      ]
     },
     "execution_count": 76,
     "metadata": {},
     "output_type": "execute_result"
    }
   ],
   "source": [
    "pageRank(A13)"
   ]
  },
  {
   "cell_type": "code",
   "execution_count": 77,
   "metadata": {
    "scrolled": true
   },
   "outputs": [
    {
     "name": "stderr",
     "output_type": "stream",
     "text": [
      "C:\\Users\\giaw\\Anaconda3\\lib\\site-packages\\ipykernel_launcher.py:4: RuntimeWarning: divide by zero encountered in double_scalars\n",
      "  after removing the cwd from sys.path.\n"
     ]
    },
    {
     "data": {
      "text/plain": [
       "[(4.0, 0.23673981724129228),\n",
       " (5.0, 0.16491165217601284),\n",
       " (2.0, 0.16185576702968474),\n",
       " (1.0, 0.15107022153276267),\n",
       " (7.0, 0.1130037854997067),\n",
       " (6.0, 0.10221824000278465),\n",
       " (3.0, 0.07020051651775622)]"
      ]
     },
     "execution_count": 77,
     "metadata": {},
     "output_type": "execute_result"
    }
   ],
   "source": [
    "NodesInOrder(pageRank(A13)[0])"
   ]
  },
  {
   "cell_type": "code",
   "execution_count": 78,
   "metadata": {},
   "outputs": [
    {
     "name": "stderr",
     "output_type": "stream",
     "text": [
      "C:\\Users\\giaw\\Anaconda3\\lib\\site-packages\\ipykernel_launcher.py:4: RuntimeWarning: divide by zero encountered in double_scalars\n",
      "  after removing the cwd from sys.path.\n"
     ]
    },
    {
     "data": {
      "text/plain": [
       "[(4.0, 0.2252497396131958),\n",
       " (5.0, 0.19494269671728723),\n",
       " (1.0, 0.16033432938779257),\n",
       " (7.0, 0.1330227636150867),\n",
       " (2.0, 0.12270167223815273),\n",
       " (6.0, 0.09129683159234732),\n",
       " (3.0, 0.07245196683613755)]"
      ]
     },
     "execution_count": 78,
     "metadata": {},
     "output_type": "execute_result"
    }
   ],
   "source": [
    "NodesInOrder(pageRank(A35)[0])"
   ]
  },
  {
   "cell_type": "code",
   "execution_count": 79,
   "metadata": {},
   "outputs": [
    {
     "data": {
      "text/plain": [
       "[(6.0, 0.36197319746999307),\n",
       " (4.0, 0.20801783563595455),\n",
       " (5.0, 0.18285428471335385),\n",
       " (1.0, 0.09842135733839003),\n",
       " (2.0, 0.06869474713644604),\n",
       " (7.0, 0.05861000627729119),\n",
       " (3.0, 0.02142857142857143)]"
      ]
     },
     "execution_count": 79,
     "metadata": {},
     "output_type": "execute_result"
    }
   ],
   "source": [
    "NodesInOrder(pageRank(A57)[0])"
   ]
  },
  {
   "cell_type": "code",
   "execution_count": 80,
   "metadata": {},
   "outputs": [
    {
     "data": {
      "text/plain": [
       "[(6.0, 0.33280161964851196),\n",
       " (4.0, 0.20294550202358846),\n",
       " (5.0, 0.14552342294189938),\n",
       " (2.0, 0.13034888958695798),\n",
       " (1.0, 0.11339490360670149),\n",
       " (7.0, 0.05355709076376934),\n",
       " (3.0, 0.02142857142857143)]"
      ]
     },
     "execution_count": 80,
     "metadata": {},
     "output_type": "execute_result"
    }
   ],
   "source": [
    "NodesInOrder(pageRank(A79)[0])"
   ]
  },
  {
   "cell_type": "code",
   "execution_count": null,
   "metadata": {},
   "outputs": [],
   "source": []
  },
  {
   "cell_type": "code",
   "execution_count": null,
   "metadata": {},
   "outputs": [],
   "source": []
  }
 ],
 "metadata": {
  "kernelspec": {
   "display_name": "Python 3",
   "language": "python",
   "name": "python3"
  },
  "language_info": {
   "codemirror_mode": {
    "name": "ipython",
    "version": 3
   },
   "file_extension": ".py",
   "mimetype": "text/x-python",
   "name": "python",
   "nbconvert_exporter": "python",
   "pygments_lexer": "ipython3",
   "version": "3.7.3"
  }
 },
 "nbformat": 4,
 "nbformat_minor": 2
}
